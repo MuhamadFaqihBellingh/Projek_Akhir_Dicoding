{
  "nbformat": 4,
  "nbformat_minor": 0,
  "metadata": {
    "colab": {
      "provenance": [],
      "collapsed_sections": [
        "B0nffMen-XBE"
      ]
    },
    "kernelspec": {
      "name": "python3",
      "display_name": "Python 3"
    },
    "language_info": {
      "name": "python"
    }
  },
  "cells": [
    {
      "cell_type": "markdown",
      "source": [
        "# Proyek Analisis Data: Bike-Sharing-Dataset\n"
      ],
      "metadata": {
        "id": "B0nffMen-XBE"
      }
    },
    {
      "cell_type": "markdown",
      "source": [
        "*   **Nama:** Muhamad Faqih\n",
        "*   **Email:**faqihmuh2005@gmail.com\n",
        "*   **ID Dicoding:** 3694718\n"
      ],
      "metadata": {
        "id": "JJAP1nYvd_wL"
      }
    },
    {
      "cell_type": "markdown",
      "source": [
        "## Menentukan Pertanyaan Bisnis"
      ],
      "metadata": {
        "id": "Rown1oTZdgFg"
      }
    },
    {
      "cell_type": "markdown",
      "source": [
        "*   Apa pengaruh cuaca (weather_condition) terhadap jumlah penyewaan sepeda (total_rentals)?\n",
        "\n",
        "*   Bagaimana pola penyewaan sepeda berubah sepanjang hari (hour) antara pengguna kasual dan pengguna terdaftar?\n"
      ],
      "metadata": {
        "id": "ufGA7zocdu0w"
      }
    },
    {
      "cell_type": "markdown",
      "source": [
        "## Import Semua Packages/Library yang Digunakan"
      ],
      "metadata": {
        "id": "rqy5cZpq__5R"
      }
    },
    {
      "cell_type": "code",
      "source": [
        "import numpy as np\n",
        "import pandas as pd\n",
        "import matplotlib.pyplot as plt\n",
        "import seaborn as sns\n",
        "import pandas as pd"
      ],
      "metadata": {
        "id": "vDp1K01jAEnV"
      },
      "execution_count": 506,
      "outputs": []
    },
    {
      "cell_type": "markdown",
      "source": [
        "## Data Wrangling"
      ],
      "metadata": {
        "id": "n38N9vdzD9JF"
      }
    },
    {
      "cell_type": "markdown",
      "source": [
        "### Gathering Data"
      ],
      "metadata": {
        "id": "aoFd-QrPA0Np"
      }
    },
    {
      "cell_type": "code",
      "source": [
        "df_day = pd.read_csv('/content/data_1.csv')\n",
        "df_hour = pd.read_csv('/content/data_2.csv')\n",
        "\n",
        "print(df_day.head())\n",
        "print(df_hour.head())"
      ],
      "metadata": {
        "colab": {
          "base_uri": "https://localhost:8080/"
        },
        "id": "qEN9GYRRA2Rr",
        "outputId": "a49b3a44-194d-4cef-edc2-9c2f5380a83b"
      },
      "execution_count": 507,
      "outputs": [
        {
          "output_type": "stream",
          "name": "stdout",
          "text": [
            "   instant      dteday  season  yr  mnth  holiday  weekday  workingday  \\\n",
            "0        1  2011-01-01       1   0     1        0        6           0   \n",
            "1        2  2011-01-02       1   0     1        0        0           0   \n",
            "2        3  2011-01-03       1   0     1        0        1           1   \n",
            "3        4  2011-01-04       1   0     1        0        2           1   \n",
            "4        5  2011-01-05       1   0     1        0        3           1   \n",
            "\n",
            "   weathersit      temp     atemp       hum  windspeed  casual  registered  \\\n",
            "0           2  0.344167  0.363625  0.805833   0.160446     331         654   \n",
            "1           2  0.363478  0.353739  0.696087   0.248539     131         670   \n",
            "2           1  0.196364  0.189405  0.437273   0.248309     120        1229   \n",
            "3           1  0.200000  0.212122  0.590435   0.160296     108        1454   \n",
            "4           1  0.226957  0.229270  0.436957   0.186900      82        1518   \n",
            "\n",
            "    cnt  \n",
            "0   985  \n",
            "1   801  \n",
            "2  1349  \n",
            "3  1562  \n",
            "4  1600  \n",
            "   instant      dteday  season  yr  mnth  hr  holiday  weekday  workingday  \\\n",
            "0        1  2011-01-01       1   0     1   0        0        6           0   \n",
            "1        2  2011-01-01       1   0     1   1        0        6           0   \n",
            "2        3  2011-01-01       1   0     1   2        0        6           0   \n",
            "3        4  2011-01-01       1   0     1   3        0        6           0   \n",
            "4        5  2011-01-01       1   0     1   4        0        6           0   \n",
            "\n",
            "   weathersit  temp   atemp   hum  windspeed  casual  registered  cnt  \n",
            "0           1  0.24  0.2879  0.81        0.0       3          13   16  \n",
            "1           1  0.22  0.2727  0.80        0.0       8          32   40  \n",
            "2           1  0.22  0.2727  0.80        0.0       5          27   32  \n",
            "3           1  0.24  0.2879  0.75        0.0       3          10   13  \n",
            "4           1  0.24  0.2879  0.75        0.0       0           1    1  \n"
          ]
        }
      ]
    },
    {
      "cell_type": "code",
      "source": [
        "# Menggabungkan dataset berdasarkan kolom 'dteday'\n",
        "merged_df = pd.merge(df_day, df_hour, on='dteday', suffixes=('_x', '_y'))\n",
        "\n",
        "# Daftar kolom yang sama di kedua dataset\n",
        "common_columns = {'instant', 'season', 'mnth', 'holiday', 'weathersit', 'weekday',\n",
        "                  'atemp', 'yr', 'registered', 'dteday', 'hum', 'temp',\n",
        "                  'workingday', 'casual', 'cnt', 'windspeed'}\n",
        "\n",
        "# Hapus kolom duplikasi (_y) dan hapus sufiks _x dari nama kolom\n",
        "bikes_df = merged_df.drop(columns=[col + '_y' for col in common_columns if col + '_y' in merged_df.columns])\n",
        "bikes_df.columns = [col.replace('_x', '') for col in bikes_df.columns]\n",
        "\n",
        "# Tampilan hasil dataset yang sudah bersih\n",
        "print(bikes_df.head())"
      ],
      "metadata": {
        "colab": {
          "base_uri": "https://localhost:8080/"
        },
        "id": "l-CAR_-_eQHH",
        "outputId": "8d17e447-bcaf-48f4-b958-733b7884c1f1"
      },
      "execution_count": 508,
      "outputs": [
        {
          "output_type": "stream",
          "name": "stdout",
          "text": [
            "   instant      dteday  season  yr  mnth  holiday  weekday  workingday  \\\n",
            "0        1  2011-01-01       1   0     1        0        6           0   \n",
            "1        1  2011-01-01       1   0     1        0        6           0   \n",
            "2        1  2011-01-01       1   0     1        0        6           0   \n",
            "3        1  2011-01-01       1   0     1        0        6           0   \n",
            "4        1  2011-01-01       1   0     1        0        6           0   \n",
            "\n",
            "   weathersit      temp     atemp       hum  windspeed  casual  registered  \\\n",
            "0           2  0.344167  0.363625  0.805833   0.160446     331         654   \n",
            "1           2  0.344167  0.363625  0.805833   0.160446     331         654   \n",
            "2           2  0.344167  0.363625  0.805833   0.160446     331         654   \n",
            "3           2  0.344167  0.363625  0.805833   0.160446     331         654   \n",
            "4           2  0.344167  0.363625  0.805833   0.160446     331         654   \n",
            "\n",
            "   cnt  hr  \n",
            "0  985   0  \n",
            "1  985   1  \n",
            "2  985   2  \n",
            "3  985   3  \n",
            "4  985   4  \n"
          ]
        }
      ]
    },
    {
      "cell_type": "code",
      "source": [
        "# Simpan dataset gabungan day_csv dan hour_csv\n",
        "bikes_df.to_csv('gabungan_data_bike_sharing.csv')\n",
        "print(bikes_df.head())\n"
      ],
      "metadata": {
        "id": "goOvvCsrBSGv",
        "colab": {
          "base_uri": "https://localhost:8080/"
        },
        "outputId": "53afcd8e-85aa-4018-e02f-38e1174e5d97"
      },
      "execution_count": 509,
      "outputs": [
        {
          "output_type": "stream",
          "name": "stdout",
          "text": [
            "   instant      dteday  season  yr  mnth  holiday  weekday  workingday  \\\n",
            "0        1  2011-01-01       1   0     1        0        6           0   \n",
            "1        1  2011-01-01       1   0     1        0        6           0   \n",
            "2        1  2011-01-01       1   0     1        0        6           0   \n",
            "3        1  2011-01-01       1   0     1        0        6           0   \n",
            "4        1  2011-01-01       1   0     1        0        6           0   \n",
            "\n",
            "   weathersit      temp     atemp       hum  windspeed  casual  registered  \\\n",
            "0           2  0.344167  0.363625  0.805833   0.160446     331         654   \n",
            "1           2  0.344167  0.363625  0.805833   0.160446     331         654   \n",
            "2           2  0.344167  0.363625  0.805833   0.160446     331         654   \n",
            "3           2  0.344167  0.363625  0.805833   0.160446     331         654   \n",
            "4           2  0.344167  0.363625  0.805833   0.160446     331         654   \n",
            "\n",
            "   cnt  hr  \n",
            "0  985   0  \n",
            "1  985   1  \n",
            "2  985   2  \n",
            "3  985   3  \n",
            "4  985   4  \n"
          ]
        }
      ]
    },
    {
      "cell_type": "markdown",
      "source": [
        "**Insight:**\n",
        "\n",
        "*   Membaca dataset menggunakan pandas\n",
        "*   menggabungkan 2 file menjadi 1 dataset bernama gabungan_data_bike_sharing.csv\n",
        "\n",
        "\n",
        "\n"
      ],
      "metadata": {
        "id": "NS6BYInyG_Zs"
      }
    },
    {
      "cell_type": "markdown",
      "source": [
        "### Assesing Data"
      ],
      "metadata": {
        "id": "Z40aUS08H0SA"
      }
    },
    {
      "cell_type": "code",
      "source": [
        "# membaca data dan mencari tipe data\n",
        "bikes_df.info()"
      ],
      "metadata": {
        "colab": {
          "base_uri": "https://localhost:8080/"
        },
        "id": "on5pTDOZIE45",
        "outputId": "fb65c62f-39db-4a3f-e950-2ee209808505"
      },
      "execution_count": 510,
      "outputs": [
        {
          "output_type": "stream",
          "name": "stdout",
          "text": [
            "<class 'pandas.core.frame.DataFrame'>\n",
            "RangeIndex: 17379 entries, 0 to 17378\n",
            "Data columns (total 17 columns):\n",
            " #   Column      Non-Null Count  Dtype  \n",
            "---  ------      --------------  -----  \n",
            " 0   instant     17379 non-null  int64  \n",
            " 1   dteday      17379 non-null  object \n",
            " 2   season      17379 non-null  int64  \n",
            " 3   yr          17379 non-null  int64  \n",
            " 4   mnth        17379 non-null  int64  \n",
            " 5   holiday     17379 non-null  int64  \n",
            " 6   weekday     17379 non-null  int64  \n",
            " 7   workingday  17379 non-null  int64  \n",
            " 8   weathersit  17379 non-null  int64  \n",
            " 9   temp        17379 non-null  float64\n",
            " 10  atemp       17379 non-null  float64\n",
            " 11  hum         17379 non-null  float64\n",
            " 12  windspeed   17379 non-null  float64\n",
            " 13  casual      17379 non-null  int64  \n",
            " 14  registered  17379 non-null  int64  \n",
            " 15  cnt         17379 non-null  int64  \n",
            " 16  hr          17379 non-null  int64  \n",
            "dtypes: float64(4), int64(12), object(1)\n",
            "memory usage: 2.3+ MB\n"
          ]
        }
      ]
    },
    {
      "cell_type": "code",
      "source": [
        "# Ubah nama kolom agar lebih deskriptif\n",
        "bikes_df.rename(columns={\n",
        "    'instant': 'record_id',\n",
        "    'dteday': 'date',\n",
        "    'season': 'season',\n",
        "    'yr': 'year',\n",
        "    'mnth': 'month',\n",
        "    'hr': 'hour',\n",
        "    'holiday': 'is_holiday',\n",
        "    'weekday': 'day_of_week',\n",
        "    'workingday': 'is_working_day',\n",
        "    'weathersit': 'weather_condition',\n",
        "    'temp': 'temperature',\n",
        "    'atemp': 'feels_like_temp',\n",
        "    'hum': 'humidity',\n",
        "    'windspeed': 'wind_speed',\n",
        "    'casual': 'casual_users',\n",
        "    'registered': 'registered_users',\n",
        "    'cnt': 'total_rentals'\n",
        "}, inplace=True)\n",
        "# menampilkan hasil\n",
        "print(bikes_df.head())\n",
        "\n",
        "\n"
      ],
      "metadata": {
        "colab": {
          "base_uri": "https://localhost:8080/"
        },
        "id": "SDO3HcyPlTwe",
        "outputId": "639abeeb-ecec-43a8-df8e-01861e339ec7"
      },
      "execution_count": 511,
      "outputs": [
        {
          "output_type": "stream",
          "name": "stdout",
          "text": [
            "   record_id        date  season  year  month  is_holiday  day_of_week  \\\n",
            "0          1  2011-01-01       1     0      1           0            6   \n",
            "1          1  2011-01-01       1     0      1           0            6   \n",
            "2          1  2011-01-01       1     0      1           0            6   \n",
            "3          1  2011-01-01       1     0      1           0            6   \n",
            "4          1  2011-01-01       1     0      1           0            6   \n",
            "\n",
            "   is_working_day  weather_condition  temperature  feels_like_temp  humidity  \\\n",
            "0               0                  2     0.344167         0.363625  0.805833   \n",
            "1               0                  2     0.344167         0.363625  0.805833   \n",
            "2               0                  2     0.344167         0.363625  0.805833   \n",
            "3               0                  2     0.344167         0.363625  0.805833   \n",
            "4               0                  2     0.344167         0.363625  0.805833   \n",
            "\n",
            "   wind_speed  casual_users  registered_users  total_rentals  hour  \n",
            "0    0.160446           331               654            985     0  \n",
            "1    0.160446           331               654            985     1  \n",
            "2    0.160446           331               654            985     2  \n",
            "3    0.160446           331               654            985     3  \n",
            "4    0.160446           331               654            985     4  \n"
          ]
        }
      ]
    },
    {
      "cell_type": "code",
      "source": [
        "# mengubah tipe data\n",
        "bikes_df['season'] = bikes_df['season'].astype('int')\n",
        "bikes_df['year'] = bikes_df['year'].astype('int')\n",
        "bikes_df['month'] = bikes_df['month'].astype('int')\n",
        "bikes_df['date'] = pd.to_datetime(bikes_df['date'])\n",
        "print(bikes_df.dtypes)"
      ],
      "metadata": {
        "colab": {
          "base_uri": "https://localhost:8080/"
        },
        "id": "05hLZKGIZ074",
        "outputId": "bb7b0bb3-5062-4bea-8d5e-23f4385baee0"
      },
      "execution_count": 512,
      "outputs": [
        {
          "output_type": "stream",
          "name": "stdout",
          "text": [
            "record_id                     int64\n",
            "date                 datetime64[ns]\n",
            "season                        int64\n",
            "year                          int64\n",
            "month                         int64\n",
            "is_holiday                    int64\n",
            "day_of_week                   int64\n",
            "is_working_day                int64\n",
            "weather_condition             int64\n",
            "temperature                 float64\n",
            "feels_like_temp             float64\n",
            "humidity                    float64\n",
            "wind_speed                  float64\n",
            "casual_users                  int64\n",
            "registered_users              int64\n",
            "total_rentals                 int64\n",
            "hour                          int64\n",
            "dtype: object\n"
          ]
        }
      ]
    },
    {
      "cell_type": "code",
      "source": [
        "# Memisahkan kolom numerik\n",
        "kolom_numerik = [\"temperature\", \"feels_like_temp\", \"humidity\", \"wind_speed\", \"casual_users\", \"registered_users\", \"total_rentals\", \"recency\"]\n",
        "\n",
        "# Memisahkan kolom kategorikal\n",
        "kolom_kategorik = [\"season\", \"weather_condition\", \"day_of_week\", \"is_holiday\", \"is_working_day\"]\n",
        "\n",
        "# Memisahkan kolom waktu\n",
        "kolom_waktu = [\"date\", \"year\", \"month\", \"hour\"]\n",
        "\n",
        "# Menampilkan kolom berdasarkan kategorinya\n",
        "print(\"Kolom Numerik:\", kolom_numerik)\n",
        "print(\"Kolom Kategorikal:\", kolom_kategorik)\n",
        "print(\"Kolom Waktu:\", kolom_waktu)\n"
      ],
      "metadata": {
        "colab": {
          "base_uri": "https://localhost:8080/"
        },
        "id": "ucCBjOWAQ7b1",
        "outputId": "04583069-c39d-4225-d2ca-97f18edf79a7"
      },
      "execution_count": 513,
      "outputs": [
        {
          "output_type": "stream",
          "name": "stdout",
          "text": [
            "Kolom Numerik: ['temperature', 'feels_like_temp', 'humidity', 'wind_speed', 'casual_users', 'registered_users', 'total_rentals', 'recency']\n",
            "Kolom Kategorikal: ['season', 'weather_condition', 'day_of_week', 'is_holiday', 'is_working_day']\n",
            "Kolom Waktu: ['date', 'year', 'month', 'hour']\n"
          ]
        }
      ]
    },
    {
      "cell_type": "code",
      "source": [
        "# Memeriksa nilai unik dalam kolom yang relevan\n",
        "print(bikes_df['is_holiday'].unique())  # terdiri 0,1\n",
        "print(bikes_df['day_of_week'].unique())  # terdiri nilai antara 0 hingga 6\n",
        "print(bikes_df['season'].unique())  # Pastikan nilainya antara 1 hingga 4\n",
        "print(bikes_df['weather_condition'].unique())  # terdiri 1 hingga 3\n",
        "print(bikes_df['year'].unique()) # terdiri 0 dan 1\n",
        "print(bikes_df['is_working_day'].unique()) # terdiri 0 dan 1\n",
        "\n"
      ],
      "metadata": {
        "colab": {
          "base_uri": "https://localhost:8080/"
        },
        "id": "So-_XKSHHz0X",
        "outputId": "c173e276-b03e-4cca-8df1-1c24e0bc12fa"
      },
      "execution_count": 514,
      "outputs": [
        {
          "output_type": "stream",
          "name": "stdout",
          "text": [
            "[0 1]\n",
            "[6 0 1 2 3 4 5]\n",
            "[1 2 3 4]\n",
            "[2 1 3]\n",
            "[0 1]\n",
            "[0 1]\n"
          ]
        }
      ]
    },
    {
      "cell_type": "code",
      "source": [
        "# Hitung jumlah nilai unik di setiap kolom\n",
        "unique_counts = bikes_df.nunique()\n",
        "total_counts = len(bikes_df)\n",
        "print(unique_counts)\n",
        "print(total_counts)"
      ],
      "metadata": {
        "colab": {
          "base_uri": "https://localhost:8080/"
        },
        "id": "is13F8Me8zn_",
        "outputId": "a1f1d43d-7641-4ab3-a665-325f775db55d"
      },
      "execution_count": 515,
      "outputs": [
        {
          "output_type": "stream",
          "name": "stdout",
          "text": [
            "record_id            731\n",
            "date                 731\n",
            "season                 4\n",
            "year                   2\n",
            "month                 12\n",
            "is_holiday             2\n",
            "day_of_week            7\n",
            "is_working_day         2\n",
            "weather_condition      3\n",
            "temperature          499\n",
            "feels_like_temp      690\n",
            "humidity             595\n",
            "wind_speed           650\n",
            "casual_users         606\n",
            "registered_users     679\n",
            "total_rentals        696\n",
            "hour                  24\n",
            "dtype: int64\n",
            "17379\n"
          ]
        }
      ]
    },
    {
      "cell_type": "code",
      "source": [
        "# Mapping untuk kolom season\n",
        "season_mapping = {1: \"Spring\", 2: \"Summer\", 3: \"Autumn\", 4: \"Winter\"}\n",
        "bikes_df['season'] = bikes_df['season'].map(season_mapping)\n",
        "\n",
        "# Mapping untuk kolom weather_condition\n",
        "weather_mapping = {1: \"Clear\", 2: \"Cloudy\", 3: \"Rainy\"}\n",
        "bikes_df['weather_condition'] = bikes_df['weather_condition'].map(weather_mapping)\n",
        "\n",
        "# Mapping untuk kolom is_working_day\n",
        "working_day_mapping = {0: \"Non-Working Day\", 1: \"Working Day\"}\n",
        "bikes_df['is_working_day'] = bikes_df['is_working_day'].map(working_day_mapping)\n",
        "\n",
        "# Periksa hasil mapping untuk setiap kolom secara terpisah\n",
        "print(\"Season values:\", bikes_df['season'].unique())\n",
        "print(\"Weather Condition values:\", bikes_df['weather_condition'].unique())\n",
        "print(\"Is Working Day values:\", bikes_df['is_working_day'].unique())\n",
        "\n"
      ],
      "metadata": {
        "colab": {
          "base_uri": "https://localhost:8080/"
        },
        "id": "mAOrOdBHY4u1",
        "outputId": "e3575c45-38f1-4cba-b843-b6af366ca81a"
      },
      "execution_count": 516,
      "outputs": [
        {
          "output_type": "stream",
          "name": "stdout",
          "text": [
            "Season values: ['Spring' 'Summer' 'Autumn' 'Winter']\n",
            "Weather Condition values: ['Cloudy' 'Clear' 'Rainy']\n",
            "Is Working Day values: ['Non-Working Day' 'Working Day']\n"
          ]
        }
      ]
    },
    {
      "cell_type": "code",
      "source": [
        "# Mapping untuk kolom 'year' (0 menjadi 2011, 1 menjadi 2012)\n",
        "year_mapping = {0: 2011, 1: 2012}\n",
        "bikes_df['year'] = bikes_df['year'].map(year_mapping)\n",
        "\n",
        "# Mapping untuk kolom 'month' ke nama bulan\n",
        "month_mapping = {\n",
        "    1: \"January\", 2: \"February\", 3: \"March\", 4: \"April\", 5: \"May\", 6: \"June\",\n",
        "    7: \"July\", 8: \"August\", 9: \"September\", 10: \"October\", 11: \"November\", 12: \"December\"\n",
        "}\n",
        "bikes_df['month'] = bikes_df['month'].map(month_mapping)\n",
        "\n",
        "# Mapping untuk kolom 'is_holiday'\n",
        "holiday_mapping = {0: \"Non-Holiday\", 1: \"Holiday\"}\n",
        "bikes_df['is_holiday'] = bikes_df['is_holiday'].map(holiday_mapping)\n",
        "\n",
        "# Memeriksa hasil mapping pada kolom-kolom yang relevan\n",
        "print(\"year_values:\", bikes_df['year'].unique())\n",
        "print(\"month_values:\", bikes_df['month'].unique())\n",
        "print(\"is_holiday_values:\", bikes_df['is_holiday'].unique())\n"
      ],
      "metadata": {
        "colab": {
          "base_uri": "https://localhost:8080/"
        },
        "id": "M92ZljukmU2B",
        "outputId": "30f7a9f2-9675-4e5c-c2a8-107b2ba79d18"
      },
      "execution_count": 517,
      "outputs": [
        {
          "output_type": "stream",
          "name": "stdout",
          "text": [
            "year_values: [2011 2012]\n",
            "month_values: ['January' 'February' 'March' 'April' 'May' 'June' 'July' 'August'\n",
            " 'September' 'October' 'November' 'December']\n",
            "is_holiday_values: ['Non-Holiday' 'Holiday']\n"
          ]
        }
      ]
    },
    {
      "cell_type": "code",
      "source": [
        "# Mapping day_of_Week\n",
        "day_of_week_mapping = {0: \"Sunday\", 1: \"Monday\", 2: \"Tuesday\", 3: \"Wednesday\", 4: \"Thursday\", 5: \"Friday\", 6: \"Saturday\"}\n",
        "bikes_df['day_of_week'].unique()\n",
        "bikes_df['day_of_week'] = bikes_df['day_of_week'].map(day_of_week_mapping)\n",
        "print(bikes_df['day_of_week'].unique())"
      ],
      "metadata": {
        "colab": {
          "base_uri": "https://localhost:8080/"
        },
        "id": "OFk9JVeYnj_G",
        "outputId": "08a3cb8c-2619-432e-ede9-b08832194f3b"
      },
      "execution_count": 518,
      "outputs": [
        {
          "output_type": "stream",
          "name": "stdout",
          "text": [
            "['Saturday' 'Sunday' 'Monday' 'Tuesday' 'Wednesday' 'Thursday' 'Friday']\n"
          ]
        }
      ]
    },
    {
      "cell_type": "code",
      "source": [
        "# Memeriksa nilai unik pada kolom-kolom yang sudah dimapping\n",
        "print(bikes_df['season'].unique())\n",
        "print(bikes_df['weather_condition'].unique())\n",
        "print(bikes_df['is_working_day'].unique())\n",
        "print(bikes_df['year'].unique())\n",
        "print(bikes_df['month'].unique())\n",
        "print(bikes_df['is_holiday'].unique())\n",
        "\n"
      ],
      "metadata": {
        "colab": {
          "base_uri": "https://localhost:8080/"
        },
        "id": "8u4WJqOulJtT",
        "outputId": "e4b66196-36f2-497d-e6fd-706d1d016966"
      },
      "execution_count": 520,
      "outputs": [
        {
          "output_type": "stream",
          "name": "stdout",
          "text": [
            "['Spring' 'Summer' 'Autumn' 'Winter']\n",
            "['Cloudy' 'Clear' 'Rainy']\n",
            "['Non-Working Day' 'Working Day']\n",
            "[2011 2012]\n",
            "['January' 'February' 'March' 'April' 'May' 'June' 'July' 'August'\n",
            " 'September' 'October' 'November' 'December']\n",
            "['Non-Holiday' 'Holiday']\n"
          ]
        }
      ]
    },
    {
      "cell_type": "code",
      "source": [
        "# Menampilkan contoh data untuk satu tanggal\n",
        "sample_date = bikes_df['date'].iloc[0]\n",
        "bikes_df[bikes_df['date'] == sample_date]\n"
      ],
      "metadata": {
        "colab": {
          "base_uri": "https://localhost:8080/",
          "height": 1000
        },
        "id": "OZ34hEWM_CqG",
        "outputId": "c63c119b-143e-4f92-8bad-3fd08979adcd"
      },
      "execution_count": 521,
      "outputs": [
        {
          "output_type": "execute_result",
          "data": {
            "text/plain": [
              "    record_id       date  season  year    month   is_holiday day_of_week  \\\n",
              "0           1 2011-01-01  Spring  2011  January  Non-Holiday    Saturday   \n",
              "1           1 2011-01-01  Spring  2011  January  Non-Holiday    Saturday   \n",
              "2           1 2011-01-01  Spring  2011  January  Non-Holiday    Saturday   \n",
              "3           1 2011-01-01  Spring  2011  January  Non-Holiday    Saturday   \n",
              "4           1 2011-01-01  Spring  2011  January  Non-Holiday    Saturday   \n",
              "5           1 2011-01-01  Spring  2011  January  Non-Holiday    Saturday   \n",
              "6           1 2011-01-01  Spring  2011  January  Non-Holiday    Saturday   \n",
              "7           1 2011-01-01  Spring  2011  January  Non-Holiday    Saturday   \n",
              "8           1 2011-01-01  Spring  2011  January  Non-Holiday    Saturday   \n",
              "9           1 2011-01-01  Spring  2011  January  Non-Holiday    Saturday   \n",
              "10          1 2011-01-01  Spring  2011  January  Non-Holiday    Saturday   \n",
              "11          1 2011-01-01  Spring  2011  January  Non-Holiday    Saturday   \n",
              "12          1 2011-01-01  Spring  2011  January  Non-Holiday    Saturday   \n",
              "13          1 2011-01-01  Spring  2011  January  Non-Holiday    Saturday   \n",
              "14          1 2011-01-01  Spring  2011  January  Non-Holiday    Saturday   \n",
              "15          1 2011-01-01  Spring  2011  January  Non-Holiday    Saturday   \n",
              "16          1 2011-01-01  Spring  2011  January  Non-Holiday    Saturday   \n",
              "17          1 2011-01-01  Spring  2011  January  Non-Holiday    Saturday   \n",
              "18          1 2011-01-01  Spring  2011  January  Non-Holiday    Saturday   \n",
              "19          1 2011-01-01  Spring  2011  January  Non-Holiday    Saturday   \n",
              "20          1 2011-01-01  Spring  2011  January  Non-Holiday    Saturday   \n",
              "21          1 2011-01-01  Spring  2011  January  Non-Holiday    Saturday   \n",
              "22          1 2011-01-01  Spring  2011  January  Non-Holiday    Saturday   \n",
              "23          1 2011-01-01  Spring  2011  January  Non-Holiday    Saturday   \n",
              "\n",
              "     is_working_day weather_condition  temperature  feels_like_temp  humidity  \\\n",
              "0   Non-Working Day            Cloudy     0.344167         0.363625  0.805833   \n",
              "1   Non-Working Day            Cloudy     0.344167         0.363625  0.805833   \n",
              "2   Non-Working Day            Cloudy     0.344167         0.363625  0.805833   \n",
              "3   Non-Working Day            Cloudy     0.344167         0.363625  0.805833   \n",
              "4   Non-Working Day            Cloudy     0.344167         0.363625  0.805833   \n",
              "5   Non-Working Day            Cloudy     0.344167         0.363625  0.805833   \n",
              "6   Non-Working Day            Cloudy     0.344167         0.363625  0.805833   \n",
              "7   Non-Working Day            Cloudy     0.344167         0.363625  0.805833   \n",
              "8   Non-Working Day            Cloudy     0.344167         0.363625  0.805833   \n",
              "9   Non-Working Day            Cloudy     0.344167         0.363625  0.805833   \n",
              "10  Non-Working Day            Cloudy     0.344167         0.363625  0.805833   \n",
              "11  Non-Working Day            Cloudy     0.344167         0.363625  0.805833   \n",
              "12  Non-Working Day            Cloudy     0.344167         0.363625  0.805833   \n",
              "13  Non-Working Day            Cloudy     0.344167         0.363625  0.805833   \n",
              "14  Non-Working Day            Cloudy     0.344167         0.363625  0.805833   \n",
              "15  Non-Working Day            Cloudy     0.344167         0.363625  0.805833   \n",
              "16  Non-Working Day            Cloudy     0.344167         0.363625  0.805833   \n",
              "17  Non-Working Day            Cloudy     0.344167         0.363625  0.805833   \n",
              "18  Non-Working Day            Cloudy     0.344167         0.363625  0.805833   \n",
              "19  Non-Working Day            Cloudy     0.344167         0.363625  0.805833   \n",
              "20  Non-Working Day            Cloudy     0.344167         0.363625  0.805833   \n",
              "21  Non-Working Day            Cloudy     0.344167         0.363625  0.805833   \n",
              "22  Non-Working Day            Cloudy     0.344167         0.363625  0.805833   \n",
              "23  Non-Working Day            Cloudy     0.344167         0.363625  0.805833   \n",
              "\n",
              "    wind_speed  casual_users  registered_users  total_rentals  hour  \n",
              "0     0.160446           331               654            985     0  \n",
              "1     0.160446           331               654            985     1  \n",
              "2     0.160446           331               654            985     2  \n",
              "3     0.160446           331               654            985     3  \n",
              "4     0.160446           331               654            985     4  \n",
              "5     0.160446           331               654            985     5  \n",
              "6     0.160446           331               654            985     6  \n",
              "7     0.160446           331               654            985     7  \n",
              "8     0.160446           331               654            985     8  \n",
              "9     0.160446           331               654            985     9  \n",
              "10    0.160446           331               654            985    10  \n",
              "11    0.160446           331               654            985    11  \n",
              "12    0.160446           331               654            985    12  \n",
              "13    0.160446           331               654            985    13  \n",
              "14    0.160446           331               654            985    14  \n",
              "15    0.160446           331               654            985    15  \n",
              "16    0.160446           331               654            985    16  \n",
              "17    0.160446           331               654            985    17  \n",
              "18    0.160446           331               654            985    18  \n",
              "19    0.160446           331               654            985    19  \n",
              "20    0.160446           331               654            985    20  \n",
              "21    0.160446           331               654            985    21  \n",
              "22    0.160446           331               654            985    22  \n",
              "23    0.160446           331               654            985    23  "
            ],
            "text/html": [
              "\n",
              "  <div id=\"df-3d9deef3-4f95-48af-adcf-e58b4e13a2aa\" class=\"colab-df-container\">\n",
              "    <div>\n",
              "<style scoped>\n",
              "    .dataframe tbody tr th:only-of-type {\n",
              "        vertical-align: middle;\n",
              "    }\n",
              "\n",
              "    .dataframe tbody tr th {\n",
              "        vertical-align: top;\n",
              "    }\n",
              "\n",
              "    .dataframe thead th {\n",
              "        text-align: right;\n",
              "    }\n",
              "</style>\n",
              "<table border=\"1\" class=\"dataframe\">\n",
              "  <thead>\n",
              "    <tr style=\"text-align: right;\">\n",
              "      <th></th>\n",
              "      <th>record_id</th>\n",
              "      <th>date</th>\n",
              "      <th>season</th>\n",
              "      <th>year</th>\n",
              "      <th>month</th>\n",
              "      <th>is_holiday</th>\n",
              "      <th>day_of_week</th>\n",
              "      <th>is_working_day</th>\n",
              "      <th>weather_condition</th>\n",
              "      <th>temperature</th>\n",
              "      <th>feels_like_temp</th>\n",
              "      <th>humidity</th>\n",
              "      <th>wind_speed</th>\n",
              "      <th>casual_users</th>\n",
              "      <th>registered_users</th>\n",
              "      <th>total_rentals</th>\n",
              "      <th>hour</th>\n",
              "    </tr>\n",
              "  </thead>\n",
              "  <tbody>\n",
              "    <tr>\n",
              "      <th>0</th>\n",
              "      <td>1</td>\n",
              "      <td>2011-01-01</td>\n",
              "      <td>Spring</td>\n",
              "      <td>2011</td>\n",
              "      <td>January</td>\n",
              "      <td>Non-Holiday</td>\n",
              "      <td>Saturday</td>\n",
              "      <td>Non-Working Day</td>\n",
              "      <td>Cloudy</td>\n",
              "      <td>0.344167</td>\n",
              "      <td>0.363625</td>\n",
              "      <td>0.805833</td>\n",
              "      <td>0.160446</td>\n",
              "      <td>331</td>\n",
              "      <td>654</td>\n",
              "      <td>985</td>\n",
              "      <td>0</td>\n",
              "    </tr>\n",
              "    <tr>\n",
              "      <th>1</th>\n",
              "      <td>1</td>\n",
              "      <td>2011-01-01</td>\n",
              "      <td>Spring</td>\n",
              "      <td>2011</td>\n",
              "      <td>January</td>\n",
              "      <td>Non-Holiday</td>\n",
              "      <td>Saturday</td>\n",
              "      <td>Non-Working Day</td>\n",
              "      <td>Cloudy</td>\n",
              "      <td>0.344167</td>\n",
              "      <td>0.363625</td>\n",
              "      <td>0.805833</td>\n",
              "      <td>0.160446</td>\n",
              "      <td>331</td>\n",
              "      <td>654</td>\n",
              "      <td>985</td>\n",
              "      <td>1</td>\n",
              "    </tr>\n",
              "    <tr>\n",
              "      <th>2</th>\n",
              "      <td>1</td>\n",
              "      <td>2011-01-01</td>\n",
              "      <td>Spring</td>\n",
              "      <td>2011</td>\n",
              "      <td>January</td>\n",
              "      <td>Non-Holiday</td>\n",
              "      <td>Saturday</td>\n",
              "      <td>Non-Working Day</td>\n",
              "      <td>Cloudy</td>\n",
              "      <td>0.344167</td>\n",
              "      <td>0.363625</td>\n",
              "      <td>0.805833</td>\n",
              "      <td>0.160446</td>\n",
              "      <td>331</td>\n",
              "      <td>654</td>\n",
              "      <td>985</td>\n",
              "      <td>2</td>\n",
              "    </tr>\n",
              "    <tr>\n",
              "      <th>3</th>\n",
              "      <td>1</td>\n",
              "      <td>2011-01-01</td>\n",
              "      <td>Spring</td>\n",
              "      <td>2011</td>\n",
              "      <td>January</td>\n",
              "      <td>Non-Holiday</td>\n",
              "      <td>Saturday</td>\n",
              "      <td>Non-Working Day</td>\n",
              "      <td>Cloudy</td>\n",
              "      <td>0.344167</td>\n",
              "      <td>0.363625</td>\n",
              "      <td>0.805833</td>\n",
              "      <td>0.160446</td>\n",
              "      <td>331</td>\n",
              "      <td>654</td>\n",
              "      <td>985</td>\n",
              "      <td>3</td>\n",
              "    </tr>\n",
              "    <tr>\n",
              "      <th>4</th>\n",
              "      <td>1</td>\n",
              "      <td>2011-01-01</td>\n",
              "      <td>Spring</td>\n",
              "      <td>2011</td>\n",
              "      <td>January</td>\n",
              "      <td>Non-Holiday</td>\n",
              "      <td>Saturday</td>\n",
              "      <td>Non-Working Day</td>\n",
              "      <td>Cloudy</td>\n",
              "      <td>0.344167</td>\n",
              "      <td>0.363625</td>\n",
              "      <td>0.805833</td>\n",
              "      <td>0.160446</td>\n",
              "      <td>331</td>\n",
              "      <td>654</td>\n",
              "      <td>985</td>\n",
              "      <td>4</td>\n",
              "    </tr>\n",
              "    <tr>\n",
              "      <th>5</th>\n",
              "      <td>1</td>\n",
              "      <td>2011-01-01</td>\n",
              "      <td>Spring</td>\n",
              "      <td>2011</td>\n",
              "      <td>January</td>\n",
              "      <td>Non-Holiday</td>\n",
              "      <td>Saturday</td>\n",
              "      <td>Non-Working Day</td>\n",
              "      <td>Cloudy</td>\n",
              "      <td>0.344167</td>\n",
              "      <td>0.363625</td>\n",
              "      <td>0.805833</td>\n",
              "      <td>0.160446</td>\n",
              "      <td>331</td>\n",
              "      <td>654</td>\n",
              "      <td>985</td>\n",
              "      <td>5</td>\n",
              "    </tr>\n",
              "    <tr>\n",
              "      <th>6</th>\n",
              "      <td>1</td>\n",
              "      <td>2011-01-01</td>\n",
              "      <td>Spring</td>\n",
              "      <td>2011</td>\n",
              "      <td>January</td>\n",
              "      <td>Non-Holiday</td>\n",
              "      <td>Saturday</td>\n",
              "      <td>Non-Working Day</td>\n",
              "      <td>Cloudy</td>\n",
              "      <td>0.344167</td>\n",
              "      <td>0.363625</td>\n",
              "      <td>0.805833</td>\n",
              "      <td>0.160446</td>\n",
              "      <td>331</td>\n",
              "      <td>654</td>\n",
              "      <td>985</td>\n",
              "      <td>6</td>\n",
              "    </tr>\n",
              "    <tr>\n",
              "      <th>7</th>\n",
              "      <td>1</td>\n",
              "      <td>2011-01-01</td>\n",
              "      <td>Spring</td>\n",
              "      <td>2011</td>\n",
              "      <td>January</td>\n",
              "      <td>Non-Holiday</td>\n",
              "      <td>Saturday</td>\n",
              "      <td>Non-Working Day</td>\n",
              "      <td>Cloudy</td>\n",
              "      <td>0.344167</td>\n",
              "      <td>0.363625</td>\n",
              "      <td>0.805833</td>\n",
              "      <td>0.160446</td>\n",
              "      <td>331</td>\n",
              "      <td>654</td>\n",
              "      <td>985</td>\n",
              "      <td>7</td>\n",
              "    </tr>\n",
              "    <tr>\n",
              "      <th>8</th>\n",
              "      <td>1</td>\n",
              "      <td>2011-01-01</td>\n",
              "      <td>Spring</td>\n",
              "      <td>2011</td>\n",
              "      <td>January</td>\n",
              "      <td>Non-Holiday</td>\n",
              "      <td>Saturday</td>\n",
              "      <td>Non-Working Day</td>\n",
              "      <td>Cloudy</td>\n",
              "      <td>0.344167</td>\n",
              "      <td>0.363625</td>\n",
              "      <td>0.805833</td>\n",
              "      <td>0.160446</td>\n",
              "      <td>331</td>\n",
              "      <td>654</td>\n",
              "      <td>985</td>\n",
              "      <td>8</td>\n",
              "    </tr>\n",
              "    <tr>\n",
              "      <th>9</th>\n",
              "      <td>1</td>\n",
              "      <td>2011-01-01</td>\n",
              "      <td>Spring</td>\n",
              "      <td>2011</td>\n",
              "      <td>January</td>\n",
              "      <td>Non-Holiday</td>\n",
              "      <td>Saturday</td>\n",
              "      <td>Non-Working Day</td>\n",
              "      <td>Cloudy</td>\n",
              "      <td>0.344167</td>\n",
              "      <td>0.363625</td>\n",
              "      <td>0.805833</td>\n",
              "      <td>0.160446</td>\n",
              "      <td>331</td>\n",
              "      <td>654</td>\n",
              "      <td>985</td>\n",
              "      <td>9</td>\n",
              "    </tr>\n",
              "    <tr>\n",
              "      <th>10</th>\n",
              "      <td>1</td>\n",
              "      <td>2011-01-01</td>\n",
              "      <td>Spring</td>\n",
              "      <td>2011</td>\n",
              "      <td>January</td>\n",
              "      <td>Non-Holiday</td>\n",
              "      <td>Saturday</td>\n",
              "      <td>Non-Working Day</td>\n",
              "      <td>Cloudy</td>\n",
              "      <td>0.344167</td>\n",
              "      <td>0.363625</td>\n",
              "      <td>0.805833</td>\n",
              "      <td>0.160446</td>\n",
              "      <td>331</td>\n",
              "      <td>654</td>\n",
              "      <td>985</td>\n",
              "      <td>10</td>\n",
              "    </tr>\n",
              "    <tr>\n",
              "      <th>11</th>\n",
              "      <td>1</td>\n",
              "      <td>2011-01-01</td>\n",
              "      <td>Spring</td>\n",
              "      <td>2011</td>\n",
              "      <td>January</td>\n",
              "      <td>Non-Holiday</td>\n",
              "      <td>Saturday</td>\n",
              "      <td>Non-Working Day</td>\n",
              "      <td>Cloudy</td>\n",
              "      <td>0.344167</td>\n",
              "      <td>0.363625</td>\n",
              "      <td>0.805833</td>\n",
              "      <td>0.160446</td>\n",
              "      <td>331</td>\n",
              "      <td>654</td>\n",
              "      <td>985</td>\n",
              "      <td>11</td>\n",
              "    </tr>\n",
              "    <tr>\n",
              "      <th>12</th>\n",
              "      <td>1</td>\n",
              "      <td>2011-01-01</td>\n",
              "      <td>Spring</td>\n",
              "      <td>2011</td>\n",
              "      <td>January</td>\n",
              "      <td>Non-Holiday</td>\n",
              "      <td>Saturday</td>\n",
              "      <td>Non-Working Day</td>\n",
              "      <td>Cloudy</td>\n",
              "      <td>0.344167</td>\n",
              "      <td>0.363625</td>\n",
              "      <td>0.805833</td>\n",
              "      <td>0.160446</td>\n",
              "      <td>331</td>\n",
              "      <td>654</td>\n",
              "      <td>985</td>\n",
              "      <td>12</td>\n",
              "    </tr>\n",
              "    <tr>\n",
              "      <th>13</th>\n",
              "      <td>1</td>\n",
              "      <td>2011-01-01</td>\n",
              "      <td>Spring</td>\n",
              "      <td>2011</td>\n",
              "      <td>January</td>\n",
              "      <td>Non-Holiday</td>\n",
              "      <td>Saturday</td>\n",
              "      <td>Non-Working Day</td>\n",
              "      <td>Cloudy</td>\n",
              "      <td>0.344167</td>\n",
              "      <td>0.363625</td>\n",
              "      <td>0.805833</td>\n",
              "      <td>0.160446</td>\n",
              "      <td>331</td>\n",
              "      <td>654</td>\n",
              "      <td>985</td>\n",
              "      <td>13</td>\n",
              "    </tr>\n",
              "    <tr>\n",
              "      <th>14</th>\n",
              "      <td>1</td>\n",
              "      <td>2011-01-01</td>\n",
              "      <td>Spring</td>\n",
              "      <td>2011</td>\n",
              "      <td>January</td>\n",
              "      <td>Non-Holiday</td>\n",
              "      <td>Saturday</td>\n",
              "      <td>Non-Working Day</td>\n",
              "      <td>Cloudy</td>\n",
              "      <td>0.344167</td>\n",
              "      <td>0.363625</td>\n",
              "      <td>0.805833</td>\n",
              "      <td>0.160446</td>\n",
              "      <td>331</td>\n",
              "      <td>654</td>\n",
              "      <td>985</td>\n",
              "      <td>14</td>\n",
              "    </tr>\n",
              "    <tr>\n",
              "      <th>15</th>\n",
              "      <td>1</td>\n",
              "      <td>2011-01-01</td>\n",
              "      <td>Spring</td>\n",
              "      <td>2011</td>\n",
              "      <td>January</td>\n",
              "      <td>Non-Holiday</td>\n",
              "      <td>Saturday</td>\n",
              "      <td>Non-Working Day</td>\n",
              "      <td>Cloudy</td>\n",
              "      <td>0.344167</td>\n",
              "      <td>0.363625</td>\n",
              "      <td>0.805833</td>\n",
              "      <td>0.160446</td>\n",
              "      <td>331</td>\n",
              "      <td>654</td>\n",
              "      <td>985</td>\n",
              "      <td>15</td>\n",
              "    </tr>\n",
              "    <tr>\n",
              "      <th>16</th>\n",
              "      <td>1</td>\n",
              "      <td>2011-01-01</td>\n",
              "      <td>Spring</td>\n",
              "      <td>2011</td>\n",
              "      <td>January</td>\n",
              "      <td>Non-Holiday</td>\n",
              "      <td>Saturday</td>\n",
              "      <td>Non-Working Day</td>\n",
              "      <td>Cloudy</td>\n",
              "      <td>0.344167</td>\n",
              "      <td>0.363625</td>\n",
              "      <td>0.805833</td>\n",
              "      <td>0.160446</td>\n",
              "      <td>331</td>\n",
              "      <td>654</td>\n",
              "      <td>985</td>\n",
              "      <td>16</td>\n",
              "    </tr>\n",
              "    <tr>\n",
              "      <th>17</th>\n",
              "      <td>1</td>\n",
              "      <td>2011-01-01</td>\n",
              "      <td>Spring</td>\n",
              "      <td>2011</td>\n",
              "      <td>January</td>\n",
              "      <td>Non-Holiday</td>\n",
              "      <td>Saturday</td>\n",
              "      <td>Non-Working Day</td>\n",
              "      <td>Cloudy</td>\n",
              "      <td>0.344167</td>\n",
              "      <td>0.363625</td>\n",
              "      <td>0.805833</td>\n",
              "      <td>0.160446</td>\n",
              "      <td>331</td>\n",
              "      <td>654</td>\n",
              "      <td>985</td>\n",
              "      <td>17</td>\n",
              "    </tr>\n",
              "    <tr>\n",
              "      <th>18</th>\n",
              "      <td>1</td>\n",
              "      <td>2011-01-01</td>\n",
              "      <td>Spring</td>\n",
              "      <td>2011</td>\n",
              "      <td>January</td>\n",
              "      <td>Non-Holiday</td>\n",
              "      <td>Saturday</td>\n",
              "      <td>Non-Working Day</td>\n",
              "      <td>Cloudy</td>\n",
              "      <td>0.344167</td>\n",
              "      <td>0.363625</td>\n",
              "      <td>0.805833</td>\n",
              "      <td>0.160446</td>\n",
              "      <td>331</td>\n",
              "      <td>654</td>\n",
              "      <td>985</td>\n",
              "      <td>18</td>\n",
              "    </tr>\n",
              "    <tr>\n",
              "      <th>19</th>\n",
              "      <td>1</td>\n",
              "      <td>2011-01-01</td>\n",
              "      <td>Spring</td>\n",
              "      <td>2011</td>\n",
              "      <td>January</td>\n",
              "      <td>Non-Holiday</td>\n",
              "      <td>Saturday</td>\n",
              "      <td>Non-Working Day</td>\n",
              "      <td>Cloudy</td>\n",
              "      <td>0.344167</td>\n",
              "      <td>0.363625</td>\n",
              "      <td>0.805833</td>\n",
              "      <td>0.160446</td>\n",
              "      <td>331</td>\n",
              "      <td>654</td>\n",
              "      <td>985</td>\n",
              "      <td>19</td>\n",
              "    </tr>\n",
              "    <tr>\n",
              "      <th>20</th>\n",
              "      <td>1</td>\n",
              "      <td>2011-01-01</td>\n",
              "      <td>Spring</td>\n",
              "      <td>2011</td>\n",
              "      <td>January</td>\n",
              "      <td>Non-Holiday</td>\n",
              "      <td>Saturday</td>\n",
              "      <td>Non-Working Day</td>\n",
              "      <td>Cloudy</td>\n",
              "      <td>0.344167</td>\n",
              "      <td>0.363625</td>\n",
              "      <td>0.805833</td>\n",
              "      <td>0.160446</td>\n",
              "      <td>331</td>\n",
              "      <td>654</td>\n",
              "      <td>985</td>\n",
              "      <td>20</td>\n",
              "    </tr>\n",
              "    <tr>\n",
              "      <th>21</th>\n",
              "      <td>1</td>\n",
              "      <td>2011-01-01</td>\n",
              "      <td>Spring</td>\n",
              "      <td>2011</td>\n",
              "      <td>January</td>\n",
              "      <td>Non-Holiday</td>\n",
              "      <td>Saturday</td>\n",
              "      <td>Non-Working Day</td>\n",
              "      <td>Cloudy</td>\n",
              "      <td>0.344167</td>\n",
              "      <td>0.363625</td>\n",
              "      <td>0.805833</td>\n",
              "      <td>0.160446</td>\n",
              "      <td>331</td>\n",
              "      <td>654</td>\n",
              "      <td>985</td>\n",
              "      <td>21</td>\n",
              "    </tr>\n",
              "    <tr>\n",
              "      <th>22</th>\n",
              "      <td>1</td>\n",
              "      <td>2011-01-01</td>\n",
              "      <td>Spring</td>\n",
              "      <td>2011</td>\n",
              "      <td>January</td>\n",
              "      <td>Non-Holiday</td>\n",
              "      <td>Saturday</td>\n",
              "      <td>Non-Working Day</td>\n",
              "      <td>Cloudy</td>\n",
              "      <td>0.344167</td>\n",
              "      <td>0.363625</td>\n",
              "      <td>0.805833</td>\n",
              "      <td>0.160446</td>\n",
              "      <td>331</td>\n",
              "      <td>654</td>\n",
              "      <td>985</td>\n",
              "      <td>22</td>\n",
              "    </tr>\n",
              "    <tr>\n",
              "      <th>23</th>\n",
              "      <td>1</td>\n",
              "      <td>2011-01-01</td>\n",
              "      <td>Spring</td>\n",
              "      <td>2011</td>\n",
              "      <td>January</td>\n",
              "      <td>Non-Holiday</td>\n",
              "      <td>Saturday</td>\n",
              "      <td>Non-Working Day</td>\n",
              "      <td>Cloudy</td>\n",
              "      <td>0.344167</td>\n",
              "      <td>0.363625</td>\n",
              "      <td>0.805833</td>\n",
              "      <td>0.160446</td>\n",
              "      <td>331</td>\n",
              "      <td>654</td>\n",
              "      <td>985</td>\n",
              "      <td>23</td>\n",
              "    </tr>\n",
              "  </tbody>\n",
              "</table>\n",
              "</div>\n",
              "    <div class=\"colab-df-buttons\">\n",
              "\n",
              "  <div class=\"colab-df-container\">\n",
              "    <button class=\"colab-df-convert\" onclick=\"convertToInteractive('df-3d9deef3-4f95-48af-adcf-e58b4e13a2aa')\"\n",
              "            title=\"Convert this dataframe to an interactive table.\"\n",
              "            style=\"display:none;\">\n",
              "\n",
              "  <svg xmlns=\"http://www.w3.org/2000/svg\" height=\"24px\" viewBox=\"0 -960 960 960\">\n",
              "    <path d=\"M120-120v-720h720v720H120Zm60-500h600v-160H180v160Zm220 220h160v-160H400v160Zm0 220h160v-160H400v160ZM180-400h160v-160H180v160Zm440 0h160v-160H620v160ZM180-180h160v-160H180v160Zm440 0h160v-160H620v160Z\"/>\n",
              "  </svg>\n",
              "    </button>\n",
              "\n",
              "  <style>\n",
              "    .colab-df-container {\n",
              "      display:flex;\n",
              "      gap: 12px;\n",
              "    }\n",
              "\n",
              "    .colab-df-convert {\n",
              "      background-color: #E8F0FE;\n",
              "      border: none;\n",
              "      border-radius: 50%;\n",
              "      cursor: pointer;\n",
              "      display: none;\n",
              "      fill: #1967D2;\n",
              "      height: 32px;\n",
              "      padding: 0 0 0 0;\n",
              "      width: 32px;\n",
              "    }\n",
              "\n",
              "    .colab-df-convert:hover {\n",
              "      background-color: #E2EBFA;\n",
              "      box-shadow: 0px 1px 2px rgba(60, 64, 67, 0.3), 0px 1px 3px 1px rgba(60, 64, 67, 0.15);\n",
              "      fill: #174EA6;\n",
              "    }\n",
              "\n",
              "    .colab-df-buttons div {\n",
              "      margin-bottom: 4px;\n",
              "    }\n",
              "\n",
              "    [theme=dark] .colab-df-convert {\n",
              "      background-color: #3B4455;\n",
              "      fill: #D2E3FC;\n",
              "    }\n",
              "\n",
              "    [theme=dark] .colab-df-convert:hover {\n",
              "      background-color: #434B5C;\n",
              "      box-shadow: 0px 1px 3px 1px rgba(0, 0, 0, 0.15);\n",
              "      filter: drop-shadow(0px 1px 2px rgba(0, 0, 0, 0.3));\n",
              "      fill: #FFFFFF;\n",
              "    }\n",
              "  </style>\n",
              "\n",
              "    <script>\n",
              "      const buttonEl =\n",
              "        document.querySelector('#df-3d9deef3-4f95-48af-adcf-e58b4e13a2aa button.colab-df-convert');\n",
              "      buttonEl.style.display =\n",
              "        google.colab.kernel.accessAllowed ? 'block' : 'none';\n",
              "\n",
              "      async function convertToInteractive(key) {\n",
              "        const element = document.querySelector('#df-3d9deef3-4f95-48af-adcf-e58b4e13a2aa');\n",
              "        const dataTable =\n",
              "          await google.colab.kernel.invokeFunction('convertToInteractive',\n",
              "                                                    [key], {});\n",
              "        if (!dataTable) return;\n",
              "\n",
              "        const docLinkHtml = 'Like what you see? Visit the ' +\n",
              "          '<a target=\"_blank\" href=https://colab.research.google.com/notebooks/data_table.ipynb>data table notebook</a>'\n",
              "          + ' to learn more about interactive tables.';\n",
              "        element.innerHTML = '';\n",
              "        dataTable['output_type'] = 'display_data';\n",
              "        await google.colab.output.renderOutput(dataTable, element);\n",
              "        const docLink = document.createElement('div');\n",
              "        docLink.innerHTML = docLinkHtml;\n",
              "        element.appendChild(docLink);\n",
              "      }\n",
              "    </script>\n",
              "  </div>\n",
              "\n",
              "\n",
              "<div id=\"df-86b84cfa-692a-4642-aa5e-6f3257316f75\">\n",
              "  <button class=\"colab-df-quickchart\" onclick=\"quickchart('df-86b84cfa-692a-4642-aa5e-6f3257316f75')\"\n",
              "            title=\"Suggest charts\"\n",
              "            style=\"display:none;\">\n",
              "\n",
              "<svg xmlns=\"http://www.w3.org/2000/svg\" height=\"24px\"viewBox=\"0 0 24 24\"\n",
              "     width=\"24px\">\n",
              "    <g>\n",
              "        <path d=\"M19 3H5c-1.1 0-2 .9-2 2v14c0 1.1.9 2 2 2h14c1.1 0 2-.9 2-2V5c0-1.1-.9-2-2-2zM9 17H7v-7h2v7zm4 0h-2V7h2v10zm4 0h-2v-4h2v4z\"/>\n",
              "    </g>\n",
              "</svg>\n",
              "  </button>\n",
              "\n",
              "<style>\n",
              "  .colab-df-quickchart {\n",
              "      --bg-color: #E8F0FE;\n",
              "      --fill-color: #1967D2;\n",
              "      --hover-bg-color: #E2EBFA;\n",
              "      --hover-fill-color: #174EA6;\n",
              "      --disabled-fill-color: #AAA;\n",
              "      --disabled-bg-color: #DDD;\n",
              "  }\n",
              "\n",
              "  [theme=dark] .colab-df-quickchart {\n",
              "      --bg-color: #3B4455;\n",
              "      --fill-color: #D2E3FC;\n",
              "      --hover-bg-color: #434B5C;\n",
              "      --hover-fill-color: #FFFFFF;\n",
              "      --disabled-bg-color: #3B4455;\n",
              "      --disabled-fill-color: #666;\n",
              "  }\n",
              "\n",
              "  .colab-df-quickchart {\n",
              "    background-color: var(--bg-color);\n",
              "    border: none;\n",
              "    border-radius: 50%;\n",
              "    cursor: pointer;\n",
              "    display: none;\n",
              "    fill: var(--fill-color);\n",
              "    height: 32px;\n",
              "    padding: 0;\n",
              "    width: 32px;\n",
              "  }\n",
              "\n",
              "  .colab-df-quickchart:hover {\n",
              "    background-color: var(--hover-bg-color);\n",
              "    box-shadow: 0 1px 2px rgba(60, 64, 67, 0.3), 0 1px 3px 1px rgba(60, 64, 67, 0.15);\n",
              "    fill: var(--button-hover-fill-color);\n",
              "  }\n",
              "\n",
              "  .colab-df-quickchart-complete:disabled,\n",
              "  .colab-df-quickchart-complete:disabled:hover {\n",
              "    background-color: var(--disabled-bg-color);\n",
              "    fill: var(--disabled-fill-color);\n",
              "    box-shadow: none;\n",
              "  }\n",
              "\n",
              "  .colab-df-spinner {\n",
              "    border: 2px solid var(--fill-color);\n",
              "    border-color: transparent;\n",
              "    border-bottom-color: var(--fill-color);\n",
              "    animation:\n",
              "      spin 1s steps(1) infinite;\n",
              "  }\n",
              "\n",
              "  @keyframes spin {\n",
              "    0% {\n",
              "      border-color: transparent;\n",
              "      border-bottom-color: var(--fill-color);\n",
              "      border-left-color: var(--fill-color);\n",
              "    }\n",
              "    20% {\n",
              "      border-color: transparent;\n",
              "      border-left-color: var(--fill-color);\n",
              "      border-top-color: var(--fill-color);\n",
              "    }\n",
              "    30% {\n",
              "      border-color: transparent;\n",
              "      border-left-color: var(--fill-color);\n",
              "      border-top-color: var(--fill-color);\n",
              "      border-right-color: var(--fill-color);\n",
              "    }\n",
              "    40% {\n",
              "      border-color: transparent;\n",
              "      border-right-color: var(--fill-color);\n",
              "      border-top-color: var(--fill-color);\n",
              "    }\n",
              "    60% {\n",
              "      border-color: transparent;\n",
              "      border-right-color: var(--fill-color);\n",
              "    }\n",
              "    80% {\n",
              "      border-color: transparent;\n",
              "      border-right-color: var(--fill-color);\n",
              "      border-bottom-color: var(--fill-color);\n",
              "    }\n",
              "    90% {\n",
              "      border-color: transparent;\n",
              "      border-bottom-color: var(--fill-color);\n",
              "    }\n",
              "  }\n",
              "</style>\n",
              "\n",
              "  <script>\n",
              "    async function quickchart(key) {\n",
              "      const quickchartButtonEl =\n",
              "        document.querySelector('#' + key + ' button');\n",
              "      quickchartButtonEl.disabled = true;  // To prevent multiple clicks.\n",
              "      quickchartButtonEl.classList.add('colab-df-spinner');\n",
              "      try {\n",
              "        const charts = await google.colab.kernel.invokeFunction(\n",
              "            'suggestCharts', [key], {});\n",
              "      } catch (error) {\n",
              "        console.error('Error during call to suggestCharts:', error);\n",
              "      }\n",
              "      quickchartButtonEl.classList.remove('colab-df-spinner');\n",
              "      quickchartButtonEl.classList.add('colab-df-quickchart-complete');\n",
              "    }\n",
              "    (() => {\n",
              "      let quickchartButtonEl =\n",
              "        document.querySelector('#df-86b84cfa-692a-4642-aa5e-6f3257316f75 button');\n",
              "      quickchartButtonEl.style.display =\n",
              "        google.colab.kernel.accessAllowed ? 'block' : 'none';\n",
              "    })();\n",
              "  </script>\n",
              "</div>\n",
              "\n",
              "    </div>\n",
              "  </div>\n"
            ],
            "application/vnd.google.colaboratory.intrinsic+json": {
              "type": "dataframe",
              "summary": "{\n  \"name\": \"bikes_df[bikes_df['date'] == sample_date]\",\n  \"rows\": 24,\n  \"fields\": [\n    {\n      \"column\": \"record_id\",\n      \"properties\": {\n        \"dtype\": \"number\",\n        \"std\": 0,\n        \"min\": 1,\n        \"max\": 1,\n        \"num_unique_values\": 1,\n        \"samples\": [\n          1\n        ],\n        \"semantic_type\": \"\",\n        \"description\": \"\"\n      }\n    },\n    {\n      \"column\": \"date\",\n      \"properties\": {\n        \"dtype\": \"date\",\n        \"min\": \"2011-01-01 00:00:00\",\n        \"max\": \"2011-01-01 00:00:00\",\n        \"num_unique_values\": 1,\n        \"samples\": [\n          \"2011-01-01 00:00:00\"\n        ],\n        \"semantic_type\": \"\",\n        \"description\": \"\"\n      }\n    },\n    {\n      \"column\": \"season\",\n      \"properties\": {\n        \"dtype\": \"category\",\n        \"num_unique_values\": 1,\n        \"samples\": [\n          \"Spring\"\n        ],\n        \"semantic_type\": \"\",\n        \"description\": \"\"\n      }\n    },\n    {\n      \"column\": \"year\",\n      \"properties\": {\n        \"dtype\": \"number\",\n        \"std\": 0,\n        \"min\": 2011,\n        \"max\": 2011,\n        \"num_unique_values\": 1,\n        \"samples\": [\n          2011\n        ],\n        \"semantic_type\": \"\",\n        \"description\": \"\"\n      }\n    },\n    {\n      \"column\": \"month\",\n      \"properties\": {\n        \"dtype\": \"category\",\n        \"num_unique_values\": 1,\n        \"samples\": [\n          \"January\"\n        ],\n        \"semantic_type\": \"\",\n        \"description\": \"\"\n      }\n    },\n    {\n      \"column\": \"is_holiday\",\n      \"properties\": {\n        \"dtype\": \"category\",\n        \"num_unique_values\": 1,\n        \"samples\": [\n          \"Non-Holiday\"\n        ],\n        \"semantic_type\": \"\",\n        \"description\": \"\"\n      }\n    },\n    {\n      \"column\": \"day_of_week\",\n      \"properties\": {\n        \"dtype\": \"category\",\n        \"num_unique_values\": 1,\n        \"samples\": [\n          \"Saturday\"\n        ],\n        \"semantic_type\": \"\",\n        \"description\": \"\"\n      }\n    },\n    {\n      \"column\": \"is_working_day\",\n      \"properties\": {\n        \"dtype\": \"category\",\n        \"num_unique_values\": 1,\n        \"samples\": [\n          \"Non-Working Day\"\n        ],\n        \"semantic_type\": \"\",\n        \"description\": \"\"\n      }\n    },\n    {\n      \"column\": \"weather_condition\",\n      \"properties\": {\n        \"dtype\": \"category\",\n        \"num_unique_values\": 1,\n        \"samples\": [\n          \"Cloudy\"\n        ],\n        \"semantic_type\": \"\",\n        \"description\": \"\"\n      }\n    },\n    {\n      \"column\": \"temperature\",\n      \"properties\": {\n        \"dtype\": \"number\",\n        \"std\": 1.1341015203730747e-16,\n        \"min\": 0.344167,\n        \"max\": 0.344167,\n        \"num_unique_values\": 1,\n        \"samples\": [\n          0.344167\n        ],\n        \"semantic_type\": \"\",\n        \"description\": \"\"\n      }\n    },\n    {\n      \"column\": \"feels_like_temp\",\n      \"properties\": {\n        \"dtype\": \"number\",\n        \"std\": 5.670507601865373e-17,\n        \"min\": 0.363625,\n        \"max\": 0.363625,\n        \"num_unique_values\": 1,\n        \"samples\": [\n          0.363625\n        ],\n        \"semantic_type\": \"\",\n        \"description\": \"\"\n      }\n    },\n    {\n      \"column\": \"humidity\",\n      \"properties\": {\n        \"dtype\": \"number\",\n        \"std\": 1.1341015203730747e-16,\n        \"min\": 0.805833,\n        \"max\": 0.805833,\n        \"num_unique_values\": 1,\n        \"samples\": [\n          0.805833\n        ],\n        \"semantic_type\": \"\",\n        \"description\": \"\"\n      }\n    },\n    {\n      \"column\": \"wind_speed\",\n      \"properties\": {\n        \"dtype\": \"number\",\n        \"std\": 5.670507601865373e-17,\n        \"min\": 0.160446,\n        \"max\": 0.160446,\n        \"num_unique_values\": 1,\n        \"samples\": [\n          0.160446\n        ],\n        \"semantic_type\": \"\",\n        \"description\": \"\"\n      }\n    },\n    {\n      \"column\": \"casual_users\",\n      \"properties\": {\n        \"dtype\": \"number\",\n        \"std\": 0,\n        \"min\": 331,\n        \"max\": 331,\n        \"num_unique_values\": 1,\n        \"samples\": [\n          331\n        ],\n        \"semantic_type\": \"\",\n        \"description\": \"\"\n      }\n    },\n    {\n      \"column\": \"registered_users\",\n      \"properties\": {\n        \"dtype\": \"number\",\n        \"std\": 0,\n        \"min\": 654,\n        \"max\": 654,\n        \"num_unique_values\": 1,\n        \"samples\": [\n          654\n        ],\n        \"semantic_type\": \"\",\n        \"description\": \"\"\n      }\n    },\n    {\n      \"column\": \"total_rentals\",\n      \"properties\": {\n        \"dtype\": \"number\",\n        \"std\": 0,\n        \"min\": 985,\n        \"max\": 985,\n        \"num_unique_values\": 1,\n        \"samples\": [\n          985\n        ],\n        \"semantic_type\": \"\",\n        \"description\": \"\"\n      }\n    },\n    {\n      \"column\": \"hour\",\n      \"properties\": {\n        \"dtype\": \"number\",\n        \"std\": 7,\n        \"min\": 0,\n        \"max\": 23,\n        \"num_unique_values\": 24,\n        \"samples\": [\n          8\n        ],\n        \"semantic_type\": \"\",\n        \"description\": \"\"\n      }\n    }\n  ]\n}"
            }
          },
          "metadata": {},
          "execution_count": 521
        }
      ]
    },
    {
      "cell_type": "markdown",
      "source": [
        "**Insight:**\n",
        "\n",
        "\n",
        "*   Mengubah kolom  data dan nama kolom agar efisien    \n",
        "*   Memisahkan kolom kategorik dan numerik agar memudahkan analisis\n",
        "\n"
      ],
      "metadata": {
        "id": "QkKupDU2QaRC"
      }
    },
    {
      "cell_type": "markdown",
      "source": [
        "### Cleaning Data"
      ],
      "metadata": {
        "id": "Fq4lwjO8ist7"
      }
    },
    {
      "cell_type": "code",
      "source": [
        "# Penanganan missing value dengan Interpolation\n",
        "bikes_df['temperature'].interpolate(method='linear', inplace=True)\n",
        "bikes_df['humidity'].interpolate(method='linear', inplace=True)\n",
        "bikes_df['wind_speed'].interpolate(method='linear', inplace=True)\n",
        "print(bikes_df.head())"
      ],
      "metadata": {
        "colab": {
          "base_uri": "https://localhost:8080/"
        },
        "id": "fEUXm5UJgQ-r",
        "outputId": "1cd512e8-d8ea-434f-c65d-a1c13de2a2d3"
      },
      "execution_count": 522,
      "outputs": [
        {
          "output_type": "stream",
          "name": "stdout",
          "text": [
            "   record_id       date  season  year    month   is_holiday day_of_week  \\\n",
            "0          1 2011-01-01  Spring  2011  January  Non-Holiday    Saturday   \n",
            "1          1 2011-01-01  Spring  2011  January  Non-Holiday    Saturday   \n",
            "2          1 2011-01-01  Spring  2011  January  Non-Holiday    Saturday   \n",
            "3          1 2011-01-01  Spring  2011  January  Non-Holiday    Saturday   \n",
            "4          1 2011-01-01  Spring  2011  January  Non-Holiday    Saturday   \n",
            "\n",
            "    is_working_day weather_condition  temperature  feels_like_temp  humidity  \\\n",
            "0  Non-Working Day            Cloudy     0.344167         0.363625  0.805833   \n",
            "1  Non-Working Day            Cloudy     0.344167         0.363625  0.805833   \n",
            "2  Non-Working Day            Cloudy     0.344167         0.363625  0.805833   \n",
            "3  Non-Working Day            Cloudy     0.344167         0.363625  0.805833   \n",
            "4  Non-Working Day            Cloudy     0.344167         0.363625  0.805833   \n",
            "\n",
            "   wind_speed  casual_users  registered_users  total_rentals  hour  \n",
            "0    0.160446           331               654            985     0  \n",
            "1    0.160446           331               654            985     1  \n",
            "2    0.160446           331               654            985     2  \n",
            "3    0.160446           331               654            985     3  \n",
            "4    0.160446           331               654            985     4  \n"
          ]
        },
        {
          "output_type": "stream",
          "name": "stderr",
          "text": [
            "<ipython-input-522-cf50e11dba48>:2: FutureWarning: A value is trying to be set on a copy of a DataFrame or Series through chained assignment using an inplace method.\n",
            "The behavior will change in pandas 3.0. This inplace method will never work because the intermediate object on which we are setting values always behaves as a copy.\n",
            "\n",
            "For example, when doing 'df[col].method(value, inplace=True)', try using 'df.method({col: value}, inplace=True)' or df[col] = df[col].method(value) instead, to perform the operation inplace on the original object.\n",
            "\n",
            "\n",
            "  bikes_df['temperature'].interpolate(method='linear', inplace=True)\n",
            "<ipython-input-522-cf50e11dba48>:3: FutureWarning: A value is trying to be set on a copy of a DataFrame or Series through chained assignment using an inplace method.\n",
            "The behavior will change in pandas 3.0. This inplace method will never work because the intermediate object on which we are setting values always behaves as a copy.\n",
            "\n",
            "For example, when doing 'df[col].method(value, inplace=True)', try using 'df.method({col: value}, inplace=True)' or df[col] = df[col].method(value) instead, to perform the operation inplace on the original object.\n",
            "\n",
            "\n",
            "  bikes_df['humidity'].interpolate(method='linear', inplace=True)\n",
            "<ipython-input-522-cf50e11dba48>:4: FutureWarning: A value is trying to be set on a copy of a DataFrame or Series through chained assignment using an inplace method.\n",
            "The behavior will change in pandas 3.0. This inplace method will never work because the intermediate object on which we are setting values always behaves as a copy.\n",
            "\n",
            "For example, when doing 'df[col].method(value, inplace=True)', try using 'df.method({col: value}, inplace=True)' or df[col] = df[col].method(value) instead, to perform the operation inplace on the original object.\n",
            "\n",
            "\n",
            "  bikes_df['wind_speed'].interpolate(method='linear', inplace=True)\n"
          ]
        }
      ]
    },
    {
      "cell_type": "code",
      "source": [
        "# Menangani Outlier\n",
        "Q1 = bikes_df['total_rentals'].quantile(0.25)\n",
        "Q3 = bikes_df['total_rentals'].quantile(0.75)\n",
        "IQR = Q3 - Q1\n",
        "lower_bound = Q1 - 1.5 * IQR\n",
        "upper_bound = Q3 + 1.5 * IQR\n",
        "bikes_df = bikes_df[(bikes_df['total_rentals'] >= lower_bound) & (bikes_df['total_rentals'] <= upper_bound)]\n",
        "print(bikes_df.head())\n"
      ],
      "metadata": {
        "colab": {
          "base_uri": "https://localhost:8080/"
        },
        "id": "WsLGCfxMgb5M",
        "outputId": "706989ac-4739-4bcc-b413-84f8eb556528"
      },
      "execution_count": 523,
      "outputs": [
        {
          "output_type": "stream",
          "name": "stdout",
          "text": [
            "   record_id       date  season  year    month   is_holiday day_of_week  \\\n",
            "0          1 2011-01-01  Spring  2011  January  Non-Holiday    Saturday   \n",
            "1          1 2011-01-01  Spring  2011  January  Non-Holiday    Saturday   \n",
            "2          1 2011-01-01  Spring  2011  January  Non-Holiday    Saturday   \n",
            "3          1 2011-01-01  Spring  2011  January  Non-Holiday    Saturday   \n",
            "4          1 2011-01-01  Spring  2011  January  Non-Holiday    Saturday   \n",
            "\n",
            "    is_working_day weather_condition  temperature  feels_like_temp  humidity  \\\n",
            "0  Non-Working Day            Cloudy     0.344167         0.363625  0.805833   \n",
            "1  Non-Working Day            Cloudy     0.344167         0.363625  0.805833   \n",
            "2  Non-Working Day            Cloudy     0.344167         0.363625  0.805833   \n",
            "3  Non-Working Day            Cloudy     0.344167         0.363625  0.805833   \n",
            "4  Non-Working Day            Cloudy     0.344167         0.363625  0.805833   \n",
            "\n",
            "   wind_speed  casual_users  registered_users  total_rentals  hour  \n",
            "0    0.160446           331               654            985     0  \n",
            "1    0.160446           331               654            985     1  \n",
            "2    0.160446           331               654            985     2  \n",
            "3    0.160446           331               654            985     3  \n",
            "4    0.160446           331               654            985     4  \n"
          ]
        }
      ]
    },
    {
      "cell_type": "markdown",
      "source": [
        "**Insight:**\n",
        "*   melihat pencilan data yang tersebar\n",
        "*   menghitung titik data baru berdasarkan range data yang sudah ada  "
      ],
      "metadata": {
        "id": "0gZzBZcZg7xE"
      }
    },
    {
      "cell_type": "markdown",
      "source": [
        "## Eksploratory Data Analysis (EDA)\n"
      ],
      "metadata": {
        "id": "b3s93VVZTp4i"
      }
    },
    {
      "cell_type": "markdown",
      "source": [
        "### Explore"
      ],
      "metadata": {
        "id": "2NLfqZdIyRuB"
      }
    },
    {
      "cell_type": "code",
      "source": [
        "#Statistik Deskriptif untuk menguji parameter statistik\n",
        "bikes_df.describe(include = 'all')"
      ],
      "metadata": {
        "colab": {
          "base_uri": "https://localhost:8080/",
          "height": 535
        },
        "id": "jlAtXlQyT5hU",
        "outputId": "d3d25db6-212e-4e3c-cec6-4d4d49d008c3"
      },
      "execution_count": 524,
      "outputs": [
        {
          "output_type": "execute_result",
          "data": {
            "text/plain": [
              "           record_id                           date  season          year  \\\n",
              "count   17379.000000                          17379   17379  17379.000000   \n",
              "unique           NaN                            NaN       4           NaN   \n",
              "top              NaN                            NaN  Autumn           NaN   \n",
              "freq             NaN                            NaN    4496           NaN   \n",
              "mean      367.172622  2012-01-02 04:08:34.552045568     NaN   2011.502561   \n",
              "min         1.000000            2011-01-01 00:00:00     NaN   2011.000000   \n",
              "25%       185.000000            2011-07-04 00:00:00     NaN   2011.000000   \n",
              "50%       367.000000            2012-01-02 00:00:00     NaN   2012.000000   \n",
              "75%       549.000000            2012-07-02 00:00:00     NaN   2012.000000   \n",
              "max       731.000000            2012-12-31 00:00:00     NaN   2012.000000   \n",
              "std       210.072051                            NaN     NaN      0.500008   \n",
              "\n",
              "        month   is_holiday day_of_week is_working_day weather_condition  \\\n",
              "count   17379        17379       17379          17379             17379   \n",
              "unique     12            2           7              2                 3   \n",
              "top       May  Non-Holiday    Saturday    Working Day             Clear   \n",
              "freq     1488        16879        2512          11865             11040   \n",
              "mean      NaN          NaN         NaN            NaN               NaN   \n",
              "min       NaN          NaN         NaN            NaN               NaN   \n",
              "25%       NaN          NaN         NaN            NaN               NaN   \n",
              "50%       NaN          NaN         NaN            NaN               NaN   \n",
              "75%       NaN          NaN         NaN            NaN               NaN   \n",
              "max       NaN          NaN         NaN            NaN               NaN   \n",
              "std       NaN          NaN         NaN            NaN               NaN   \n",
              "\n",
              "         temperature  feels_like_temp      humidity    wind_speed  \\\n",
              "count   17379.000000     17379.000000  17379.000000  17379.000000   \n",
              "unique           NaN              NaN           NaN           NaN   \n",
              "top              NaN              NaN           NaN           NaN   \n",
              "freq             NaN              NaN           NaN           NaN   \n",
              "mean        0.496987         0.475775      0.627229      0.190098   \n",
              "min         0.059130         0.079070      0.000000      0.022392   \n",
              "25%         0.340000         0.338363      0.520000      0.134950   \n",
              "50%         0.502500         0.490122      0.625833      0.180967   \n",
              "75%         0.655833         0.610488      0.729583      0.233204   \n",
              "max         0.861667         0.840896      0.972500      0.507463   \n",
              "std         0.182445         0.162426      0.141779      0.077204   \n",
              "\n",
              "        casual_users  registered_users  total_rentals          hour  \n",
              "count   17379.000000      17379.000000   17379.000000  17379.000000  \n",
              "unique           NaN               NaN            NaN           NaN  \n",
              "top              NaN               NaN            NaN           NaN  \n",
              "freq             NaN               NaN            NaN           NaN  \n",
              "mean      854.339720       3679.353242    4533.692963     11.546752  \n",
              "min         2.000000         20.000000      22.000000      0.000000  \n",
              "25%       318.000000       2545.000000    3214.000000      6.000000  \n",
              "50%       724.000000       3681.000000    4563.000000     12.000000  \n",
              "75%      1100.000000       4801.000000    5986.000000     18.000000  \n",
              "max      3410.000000       6946.000000    8714.000000     23.000000  \n",
              "std       685.686754       1544.953518    1917.376947      6.914405  "
            ],
            "text/html": [
              "\n",
              "  <div id=\"df-fcdfbf72-4f7f-4f74-b6ea-44be24ee4e88\" class=\"colab-df-container\">\n",
              "    <div>\n",
              "<style scoped>\n",
              "    .dataframe tbody tr th:only-of-type {\n",
              "        vertical-align: middle;\n",
              "    }\n",
              "\n",
              "    .dataframe tbody tr th {\n",
              "        vertical-align: top;\n",
              "    }\n",
              "\n",
              "    .dataframe thead th {\n",
              "        text-align: right;\n",
              "    }\n",
              "</style>\n",
              "<table border=\"1\" class=\"dataframe\">\n",
              "  <thead>\n",
              "    <tr style=\"text-align: right;\">\n",
              "      <th></th>\n",
              "      <th>record_id</th>\n",
              "      <th>date</th>\n",
              "      <th>season</th>\n",
              "      <th>year</th>\n",
              "      <th>month</th>\n",
              "      <th>is_holiday</th>\n",
              "      <th>day_of_week</th>\n",
              "      <th>is_working_day</th>\n",
              "      <th>weather_condition</th>\n",
              "      <th>temperature</th>\n",
              "      <th>feels_like_temp</th>\n",
              "      <th>humidity</th>\n",
              "      <th>wind_speed</th>\n",
              "      <th>casual_users</th>\n",
              "      <th>registered_users</th>\n",
              "      <th>total_rentals</th>\n",
              "      <th>hour</th>\n",
              "    </tr>\n",
              "  </thead>\n",
              "  <tbody>\n",
              "    <tr>\n",
              "      <th>count</th>\n",
              "      <td>17379.000000</td>\n",
              "      <td>17379</td>\n",
              "      <td>17379</td>\n",
              "      <td>17379.000000</td>\n",
              "      <td>17379</td>\n",
              "      <td>17379</td>\n",
              "      <td>17379</td>\n",
              "      <td>17379</td>\n",
              "      <td>17379</td>\n",
              "      <td>17379.000000</td>\n",
              "      <td>17379.000000</td>\n",
              "      <td>17379.000000</td>\n",
              "      <td>17379.000000</td>\n",
              "      <td>17379.000000</td>\n",
              "      <td>17379.000000</td>\n",
              "      <td>17379.000000</td>\n",
              "      <td>17379.000000</td>\n",
              "    </tr>\n",
              "    <tr>\n",
              "      <th>unique</th>\n",
              "      <td>NaN</td>\n",
              "      <td>NaN</td>\n",
              "      <td>4</td>\n",
              "      <td>NaN</td>\n",
              "      <td>12</td>\n",
              "      <td>2</td>\n",
              "      <td>7</td>\n",
              "      <td>2</td>\n",
              "      <td>3</td>\n",
              "      <td>NaN</td>\n",
              "      <td>NaN</td>\n",
              "      <td>NaN</td>\n",
              "      <td>NaN</td>\n",
              "      <td>NaN</td>\n",
              "      <td>NaN</td>\n",
              "      <td>NaN</td>\n",
              "      <td>NaN</td>\n",
              "    </tr>\n",
              "    <tr>\n",
              "      <th>top</th>\n",
              "      <td>NaN</td>\n",
              "      <td>NaN</td>\n",
              "      <td>Autumn</td>\n",
              "      <td>NaN</td>\n",
              "      <td>May</td>\n",
              "      <td>Non-Holiday</td>\n",
              "      <td>Saturday</td>\n",
              "      <td>Working Day</td>\n",
              "      <td>Clear</td>\n",
              "      <td>NaN</td>\n",
              "      <td>NaN</td>\n",
              "      <td>NaN</td>\n",
              "      <td>NaN</td>\n",
              "      <td>NaN</td>\n",
              "      <td>NaN</td>\n",
              "      <td>NaN</td>\n",
              "      <td>NaN</td>\n",
              "    </tr>\n",
              "    <tr>\n",
              "      <th>freq</th>\n",
              "      <td>NaN</td>\n",
              "      <td>NaN</td>\n",
              "      <td>4496</td>\n",
              "      <td>NaN</td>\n",
              "      <td>1488</td>\n",
              "      <td>16879</td>\n",
              "      <td>2512</td>\n",
              "      <td>11865</td>\n",
              "      <td>11040</td>\n",
              "      <td>NaN</td>\n",
              "      <td>NaN</td>\n",
              "      <td>NaN</td>\n",
              "      <td>NaN</td>\n",
              "      <td>NaN</td>\n",
              "      <td>NaN</td>\n",
              "      <td>NaN</td>\n",
              "      <td>NaN</td>\n",
              "    </tr>\n",
              "    <tr>\n",
              "      <th>mean</th>\n",
              "      <td>367.172622</td>\n",
              "      <td>2012-01-02 04:08:34.552045568</td>\n",
              "      <td>NaN</td>\n",
              "      <td>2011.502561</td>\n",
              "      <td>NaN</td>\n",
              "      <td>NaN</td>\n",
              "      <td>NaN</td>\n",
              "      <td>NaN</td>\n",
              "      <td>NaN</td>\n",
              "      <td>0.496987</td>\n",
              "      <td>0.475775</td>\n",
              "      <td>0.627229</td>\n",
              "      <td>0.190098</td>\n",
              "      <td>854.339720</td>\n",
              "      <td>3679.353242</td>\n",
              "      <td>4533.692963</td>\n",
              "      <td>11.546752</td>\n",
              "    </tr>\n",
              "    <tr>\n",
              "      <th>min</th>\n",
              "      <td>1.000000</td>\n",
              "      <td>2011-01-01 00:00:00</td>\n",
              "      <td>NaN</td>\n",
              "      <td>2011.000000</td>\n",
              "      <td>NaN</td>\n",
              "      <td>NaN</td>\n",
              "      <td>NaN</td>\n",
              "      <td>NaN</td>\n",
              "      <td>NaN</td>\n",
              "      <td>0.059130</td>\n",
              "      <td>0.079070</td>\n",
              "      <td>0.000000</td>\n",
              "      <td>0.022392</td>\n",
              "      <td>2.000000</td>\n",
              "      <td>20.000000</td>\n",
              "      <td>22.000000</td>\n",
              "      <td>0.000000</td>\n",
              "    </tr>\n",
              "    <tr>\n",
              "      <th>25%</th>\n",
              "      <td>185.000000</td>\n",
              "      <td>2011-07-04 00:00:00</td>\n",
              "      <td>NaN</td>\n",
              "      <td>2011.000000</td>\n",
              "      <td>NaN</td>\n",
              "      <td>NaN</td>\n",
              "      <td>NaN</td>\n",
              "      <td>NaN</td>\n",
              "      <td>NaN</td>\n",
              "      <td>0.340000</td>\n",
              "      <td>0.338363</td>\n",
              "      <td>0.520000</td>\n",
              "      <td>0.134950</td>\n",
              "      <td>318.000000</td>\n",
              "      <td>2545.000000</td>\n",
              "      <td>3214.000000</td>\n",
              "      <td>6.000000</td>\n",
              "    </tr>\n",
              "    <tr>\n",
              "      <th>50%</th>\n",
              "      <td>367.000000</td>\n",
              "      <td>2012-01-02 00:00:00</td>\n",
              "      <td>NaN</td>\n",
              "      <td>2012.000000</td>\n",
              "      <td>NaN</td>\n",
              "      <td>NaN</td>\n",
              "      <td>NaN</td>\n",
              "      <td>NaN</td>\n",
              "      <td>NaN</td>\n",
              "      <td>0.502500</td>\n",
              "      <td>0.490122</td>\n",
              "      <td>0.625833</td>\n",
              "      <td>0.180967</td>\n",
              "      <td>724.000000</td>\n",
              "      <td>3681.000000</td>\n",
              "      <td>4563.000000</td>\n",
              "      <td>12.000000</td>\n",
              "    </tr>\n",
              "    <tr>\n",
              "      <th>75%</th>\n",
              "      <td>549.000000</td>\n",
              "      <td>2012-07-02 00:00:00</td>\n",
              "      <td>NaN</td>\n",
              "      <td>2012.000000</td>\n",
              "      <td>NaN</td>\n",
              "      <td>NaN</td>\n",
              "      <td>NaN</td>\n",
              "      <td>NaN</td>\n",
              "      <td>NaN</td>\n",
              "      <td>0.655833</td>\n",
              "      <td>0.610488</td>\n",
              "      <td>0.729583</td>\n",
              "      <td>0.233204</td>\n",
              "      <td>1100.000000</td>\n",
              "      <td>4801.000000</td>\n",
              "      <td>5986.000000</td>\n",
              "      <td>18.000000</td>\n",
              "    </tr>\n",
              "    <tr>\n",
              "      <th>max</th>\n",
              "      <td>731.000000</td>\n",
              "      <td>2012-12-31 00:00:00</td>\n",
              "      <td>NaN</td>\n",
              "      <td>2012.000000</td>\n",
              "      <td>NaN</td>\n",
              "      <td>NaN</td>\n",
              "      <td>NaN</td>\n",
              "      <td>NaN</td>\n",
              "      <td>NaN</td>\n",
              "      <td>0.861667</td>\n",
              "      <td>0.840896</td>\n",
              "      <td>0.972500</td>\n",
              "      <td>0.507463</td>\n",
              "      <td>3410.000000</td>\n",
              "      <td>6946.000000</td>\n",
              "      <td>8714.000000</td>\n",
              "      <td>23.000000</td>\n",
              "    </tr>\n",
              "    <tr>\n",
              "      <th>std</th>\n",
              "      <td>210.072051</td>\n",
              "      <td>NaN</td>\n",
              "      <td>NaN</td>\n",
              "      <td>0.500008</td>\n",
              "      <td>NaN</td>\n",
              "      <td>NaN</td>\n",
              "      <td>NaN</td>\n",
              "      <td>NaN</td>\n",
              "      <td>NaN</td>\n",
              "      <td>0.182445</td>\n",
              "      <td>0.162426</td>\n",
              "      <td>0.141779</td>\n",
              "      <td>0.077204</td>\n",
              "      <td>685.686754</td>\n",
              "      <td>1544.953518</td>\n",
              "      <td>1917.376947</td>\n",
              "      <td>6.914405</td>\n",
              "    </tr>\n",
              "  </tbody>\n",
              "</table>\n",
              "</div>\n",
              "    <div class=\"colab-df-buttons\">\n",
              "\n",
              "  <div class=\"colab-df-container\">\n",
              "    <button class=\"colab-df-convert\" onclick=\"convertToInteractive('df-fcdfbf72-4f7f-4f74-b6ea-44be24ee4e88')\"\n",
              "            title=\"Convert this dataframe to an interactive table.\"\n",
              "            style=\"display:none;\">\n",
              "\n",
              "  <svg xmlns=\"http://www.w3.org/2000/svg\" height=\"24px\" viewBox=\"0 -960 960 960\">\n",
              "    <path d=\"M120-120v-720h720v720H120Zm60-500h600v-160H180v160Zm220 220h160v-160H400v160Zm0 220h160v-160H400v160ZM180-400h160v-160H180v160Zm440 0h160v-160H620v160ZM180-180h160v-160H180v160Zm440 0h160v-160H620v160Z\"/>\n",
              "  </svg>\n",
              "    </button>\n",
              "\n",
              "  <style>\n",
              "    .colab-df-container {\n",
              "      display:flex;\n",
              "      gap: 12px;\n",
              "    }\n",
              "\n",
              "    .colab-df-convert {\n",
              "      background-color: #E8F0FE;\n",
              "      border: none;\n",
              "      border-radius: 50%;\n",
              "      cursor: pointer;\n",
              "      display: none;\n",
              "      fill: #1967D2;\n",
              "      height: 32px;\n",
              "      padding: 0 0 0 0;\n",
              "      width: 32px;\n",
              "    }\n",
              "\n",
              "    .colab-df-convert:hover {\n",
              "      background-color: #E2EBFA;\n",
              "      box-shadow: 0px 1px 2px rgba(60, 64, 67, 0.3), 0px 1px 3px 1px rgba(60, 64, 67, 0.15);\n",
              "      fill: #174EA6;\n",
              "    }\n",
              "\n",
              "    .colab-df-buttons div {\n",
              "      margin-bottom: 4px;\n",
              "    }\n",
              "\n",
              "    [theme=dark] .colab-df-convert {\n",
              "      background-color: #3B4455;\n",
              "      fill: #D2E3FC;\n",
              "    }\n",
              "\n",
              "    [theme=dark] .colab-df-convert:hover {\n",
              "      background-color: #434B5C;\n",
              "      box-shadow: 0px 1px 3px 1px rgba(0, 0, 0, 0.15);\n",
              "      filter: drop-shadow(0px 1px 2px rgba(0, 0, 0, 0.3));\n",
              "      fill: #FFFFFF;\n",
              "    }\n",
              "  </style>\n",
              "\n",
              "    <script>\n",
              "      const buttonEl =\n",
              "        document.querySelector('#df-fcdfbf72-4f7f-4f74-b6ea-44be24ee4e88 button.colab-df-convert');\n",
              "      buttonEl.style.display =\n",
              "        google.colab.kernel.accessAllowed ? 'block' : 'none';\n",
              "\n",
              "      async function convertToInteractive(key) {\n",
              "        const element = document.querySelector('#df-fcdfbf72-4f7f-4f74-b6ea-44be24ee4e88');\n",
              "        const dataTable =\n",
              "          await google.colab.kernel.invokeFunction('convertToInteractive',\n",
              "                                                    [key], {});\n",
              "        if (!dataTable) return;\n",
              "\n",
              "        const docLinkHtml = 'Like what you see? Visit the ' +\n",
              "          '<a target=\"_blank\" href=https://colab.research.google.com/notebooks/data_table.ipynb>data table notebook</a>'\n",
              "          + ' to learn more about interactive tables.';\n",
              "        element.innerHTML = '';\n",
              "        dataTable['output_type'] = 'display_data';\n",
              "        await google.colab.output.renderOutput(dataTable, element);\n",
              "        const docLink = document.createElement('div');\n",
              "        docLink.innerHTML = docLinkHtml;\n",
              "        element.appendChild(docLink);\n",
              "      }\n",
              "    </script>\n",
              "  </div>\n",
              "\n",
              "\n",
              "<div id=\"df-7dfae8c0-5db4-4182-bf97-ce9baf9e08db\">\n",
              "  <button class=\"colab-df-quickchart\" onclick=\"quickchart('df-7dfae8c0-5db4-4182-bf97-ce9baf9e08db')\"\n",
              "            title=\"Suggest charts\"\n",
              "            style=\"display:none;\">\n",
              "\n",
              "<svg xmlns=\"http://www.w3.org/2000/svg\" height=\"24px\"viewBox=\"0 0 24 24\"\n",
              "     width=\"24px\">\n",
              "    <g>\n",
              "        <path d=\"M19 3H5c-1.1 0-2 .9-2 2v14c0 1.1.9 2 2 2h14c1.1 0 2-.9 2-2V5c0-1.1-.9-2-2-2zM9 17H7v-7h2v7zm4 0h-2V7h2v10zm4 0h-2v-4h2v4z\"/>\n",
              "    </g>\n",
              "</svg>\n",
              "  </button>\n",
              "\n",
              "<style>\n",
              "  .colab-df-quickchart {\n",
              "      --bg-color: #E8F0FE;\n",
              "      --fill-color: #1967D2;\n",
              "      --hover-bg-color: #E2EBFA;\n",
              "      --hover-fill-color: #174EA6;\n",
              "      --disabled-fill-color: #AAA;\n",
              "      --disabled-bg-color: #DDD;\n",
              "  }\n",
              "\n",
              "  [theme=dark] .colab-df-quickchart {\n",
              "      --bg-color: #3B4455;\n",
              "      --fill-color: #D2E3FC;\n",
              "      --hover-bg-color: #434B5C;\n",
              "      --hover-fill-color: #FFFFFF;\n",
              "      --disabled-bg-color: #3B4455;\n",
              "      --disabled-fill-color: #666;\n",
              "  }\n",
              "\n",
              "  .colab-df-quickchart {\n",
              "    background-color: var(--bg-color);\n",
              "    border: none;\n",
              "    border-radius: 50%;\n",
              "    cursor: pointer;\n",
              "    display: none;\n",
              "    fill: var(--fill-color);\n",
              "    height: 32px;\n",
              "    padding: 0;\n",
              "    width: 32px;\n",
              "  }\n",
              "\n",
              "  .colab-df-quickchart:hover {\n",
              "    background-color: var(--hover-bg-color);\n",
              "    box-shadow: 0 1px 2px rgba(60, 64, 67, 0.3), 0 1px 3px 1px rgba(60, 64, 67, 0.15);\n",
              "    fill: var(--button-hover-fill-color);\n",
              "  }\n",
              "\n",
              "  .colab-df-quickchart-complete:disabled,\n",
              "  .colab-df-quickchart-complete:disabled:hover {\n",
              "    background-color: var(--disabled-bg-color);\n",
              "    fill: var(--disabled-fill-color);\n",
              "    box-shadow: none;\n",
              "  }\n",
              "\n",
              "  .colab-df-spinner {\n",
              "    border: 2px solid var(--fill-color);\n",
              "    border-color: transparent;\n",
              "    border-bottom-color: var(--fill-color);\n",
              "    animation:\n",
              "      spin 1s steps(1) infinite;\n",
              "  }\n",
              "\n",
              "  @keyframes spin {\n",
              "    0% {\n",
              "      border-color: transparent;\n",
              "      border-bottom-color: var(--fill-color);\n",
              "      border-left-color: var(--fill-color);\n",
              "    }\n",
              "    20% {\n",
              "      border-color: transparent;\n",
              "      border-left-color: var(--fill-color);\n",
              "      border-top-color: var(--fill-color);\n",
              "    }\n",
              "    30% {\n",
              "      border-color: transparent;\n",
              "      border-left-color: var(--fill-color);\n",
              "      border-top-color: var(--fill-color);\n",
              "      border-right-color: var(--fill-color);\n",
              "    }\n",
              "    40% {\n",
              "      border-color: transparent;\n",
              "      border-right-color: var(--fill-color);\n",
              "      border-top-color: var(--fill-color);\n",
              "    }\n",
              "    60% {\n",
              "      border-color: transparent;\n",
              "      border-right-color: var(--fill-color);\n",
              "    }\n",
              "    80% {\n",
              "      border-color: transparent;\n",
              "      border-right-color: var(--fill-color);\n",
              "      border-bottom-color: var(--fill-color);\n",
              "    }\n",
              "    90% {\n",
              "      border-color: transparent;\n",
              "      border-bottom-color: var(--fill-color);\n",
              "    }\n",
              "  }\n",
              "</style>\n",
              "\n",
              "  <script>\n",
              "    async function quickchart(key) {\n",
              "      const quickchartButtonEl =\n",
              "        document.querySelector('#' + key + ' button');\n",
              "      quickchartButtonEl.disabled = true;  // To prevent multiple clicks.\n",
              "      quickchartButtonEl.classList.add('colab-df-spinner');\n",
              "      try {\n",
              "        const charts = await google.colab.kernel.invokeFunction(\n",
              "            'suggestCharts', [key], {});\n",
              "      } catch (error) {\n",
              "        console.error('Error during call to suggestCharts:', error);\n",
              "      }\n",
              "      quickchartButtonEl.classList.remove('colab-df-spinner');\n",
              "      quickchartButtonEl.classList.add('colab-df-quickchart-complete');\n",
              "    }\n",
              "    (() => {\n",
              "      let quickchartButtonEl =\n",
              "        document.querySelector('#df-7dfae8c0-5db4-4182-bf97-ce9baf9e08db button');\n",
              "      quickchartButtonEl.style.display =\n",
              "        google.colab.kernel.accessAllowed ? 'block' : 'none';\n",
              "    })();\n",
              "  </script>\n",
              "</div>\n",
              "\n",
              "    </div>\n",
              "  </div>\n"
            ],
            "application/vnd.google.colaboratory.intrinsic+json": {
              "type": "dataframe",
              "summary": "{\n  \"name\": \"bikes_df\",\n  \"rows\": 11,\n  \"fields\": [\n    {\n      \"column\": \"record_id\",\n      \"properties\": {\n        \"dtype\": \"number\",\n        \"std\": 6026.862348908436,\n        \"min\": 1.0,\n        \"max\": 17379.0,\n        \"num_unique_values\": 8,\n        \"samples\": [\n          367.1726221301571,\n          549.0,\n          17379.0\n        ],\n        \"semantic_type\": \"\",\n        \"description\": \"\"\n      }\n    },\n    {\n      \"column\": \"date\",\n      \"properties\": {\n        \"dtype\": \"date\",\n        \"min\": \"1970-01-01 00:00:00.000017379\",\n        \"max\": \"2012-12-31 00:00:00\",\n        \"num_unique_values\": 7,\n        \"samples\": [\n          \"17379\",\n          \"2012-01-02 04:08:34.552045568\",\n          \"2012-07-02 00:00:00\"\n        ],\n        \"semantic_type\": \"\",\n        \"description\": \"\"\n      }\n    },\n    {\n      \"column\": \"season\",\n      \"properties\": {\n        \"dtype\": \"category\",\n        \"num_unique_values\": 4,\n        \"samples\": [\n          4,\n          \"4496\",\n          \"17379\"\n        ],\n        \"semantic_type\": \"\",\n        \"description\": \"\"\n      }\n    },\n    {\n      \"column\": \"year\",\n      \"properties\": {\n        \"dtype\": \"number\",\n        \"std\": 5579.336734351885,\n        \"min\": 0.5000078290911033,\n        \"max\": 17379.0,\n        \"num_unique_values\": 5,\n        \"samples\": [\n          2011.5025605615974,\n          0.5000078290911033,\n          2011.0\n        ],\n        \"semantic_type\": \"\",\n        \"description\": \"\"\n      }\n    },\n    {\n      \"column\": \"month\",\n      \"properties\": {\n        \"dtype\": \"category\",\n        \"num_unique_values\": 4,\n        \"samples\": [\n          12,\n          \"1488\",\n          \"17379\"\n        ],\n        \"semantic_type\": \"\",\n        \"description\": \"\"\n      }\n    },\n    {\n      \"column\": \"is_holiday\",\n      \"properties\": {\n        \"dtype\": \"category\",\n        \"num_unique_values\": 4,\n        \"samples\": [\n          2,\n          \"16879\",\n          \"17379\"\n        ],\n        \"semantic_type\": \"\",\n        \"description\": \"\"\n      }\n    },\n    {\n      \"column\": \"day_of_week\",\n      \"properties\": {\n        \"dtype\": \"category\",\n        \"num_unique_values\": 4,\n        \"samples\": [\n          7,\n          \"2512\",\n          \"17379\"\n        ],\n        \"semantic_type\": \"\",\n        \"description\": \"\"\n      }\n    },\n    {\n      \"column\": \"is_working_day\",\n      \"properties\": {\n        \"dtype\": \"category\",\n        \"num_unique_values\": 4,\n        \"samples\": [\n          2,\n          \"11865\",\n          \"17379\"\n        ],\n        \"semantic_type\": \"\",\n        \"description\": \"\"\n      }\n    },\n    {\n      \"column\": \"weather_condition\",\n      \"properties\": {\n        \"dtype\": \"category\",\n        \"num_unique_values\": 4,\n        \"samples\": [\n          3,\n          \"11040\",\n          \"17379\"\n        ],\n        \"semantic_type\": \"\",\n        \"description\": \"\"\n      }\n    },\n    {\n      \"column\": \"temperature\",\n      \"properties\": {\n        \"dtype\": \"number\",\n        \"std\": 6144.247879327657,\n        \"min\": 0.0591304,\n        \"max\": 17379.0,\n        \"num_unique_values\": 8,\n        \"samples\": [\n          0.4969871679728408,\n          0.655833,\n          17379.0\n        ],\n        \"semantic_type\": \"\",\n        \"description\": \"\"\n      }\n    },\n    {\n      \"column\": \"feels_like_temp\",\n      \"properties\": {\n        \"dtype\": \"number\",\n        \"std\": 6144.253001469631,\n        \"min\": 0.0790696,\n        \"max\": 17379.0,\n        \"num_unique_values\": 8,\n        \"samples\": [\n          0.4757751124403015,\n          0.610488,\n          17379.0\n        ],\n        \"semantic_type\": \"\",\n        \"description\": \"\"\n      }\n    },\n    {\n      \"column\": \"humidity\",\n      \"properties\": {\n        \"dtype\": \"number\",\n        \"std\": 6144.221700831106,\n        \"min\": 0.0,\n        \"max\": 17379.0,\n        \"num_unique_values\": 8,\n        \"samples\": [\n          0.6272288360089764,\n          0.729583,\n          17379.0\n        ],\n        \"semantic_type\": \"\",\n        \"description\": \"\"\n      }\n    },\n    {\n      \"column\": \"wind_speed\",\n      \"properties\": {\n        \"dtype\": \"number\",\n        \"std\": 6144.336379539705,\n        \"min\": 0.0223917,\n        \"max\": 17379.0,\n        \"num_unique_values\": 8,\n        \"samples\": [\n          0.1900975923585937,\n          0.233204,\n          17379.0\n        ],\n        \"semantic_type\": \"\",\n        \"description\": \"\"\n      }\n    },\n    {\n      \"column\": \"casual_users\",\n      \"properties\": {\n        \"dtype\": \"number\",\n        \"std\": 5877.6450529388885,\n        \"min\": 2.0,\n        \"max\": 17379.0,\n        \"num_unique_values\": 8,\n        \"samples\": [\n          854.3397203521491,\n          1100.0,\n          17379.0\n        ],\n        \"semantic_type\": \"\",\n        \"description\": \"\"\n      }\n    },\n    {\n      \"column\": \"registered_users\",\n      \"properties\": {\n        \"dtype\": \"number\",\n        \"std\": 5388.749528047867,\n        \"min\": 20.0,\n        \"max\": 17379.0,\n        \"num_unique_values\": 8,\n        \"samples\": [\n          3679.3532424190116,\n          4801.0,\n          17379.0\n        ],\n        \"semantic_type\": \"\",\n        \"description\": \"\"\n      }\n    },\n    {\n      \"column\": \"total_rentals\",\n      \"properties\": {\n        \"dtype\": \"number\",\n        \"std\": 5356.968071013288,\n        \"min\": 22.0,\n        \"max\": 17379.0,\n        \"num_unique_values\": 8,\n        \"samples\": [\n          4533.692962771161,\n          5986.0,\n          17379.0\n        ],\n        \"semantic_type\": \"\",\n        \"description\": \"\"\n      }\n    },\n    {\n      \"column\": \"hour\",\n      \"properties\": {\n        \"dtype\": \"number\",\n        \"std\": 6140.496148184536,\n        \"min\": 0.0,\n        \"max\": 17379.0,\n        \"num_unique_values\": 8,\n        \"samples\": [\n          11.546751826917545,\n          18.0,\n          17379.0\n        ],\n        \"semantic_type\": \"\",\n        \"description\": \"\"\n      }\n    }\n  ]\n}"
            }
          },
          "metadata": {},
          "execution_count": 524
        }
      ]
    },
    {
      "cell_type": "code",
      "source": [
        "# Mengelompokkan data\n",
        "# Kategori jam operasional (pagi, siang, sore, malam)\n",
        "def categorize_hour(hour):\n",
        "    if 0 <= hour < 6:\n",
        "        return 'Night'\n",
        "    elif 6 <= hour < 12:\n",
        "        return 'Morning'\n",
        "    elif 12 <= hour < 18:\n",
        "        return 'Afternoon'\n",
        "    else:\n",
        "        return 'Evening'\n",
        "\n",
        "# Melihat distribusi kategori jam\n",
        "bikes_df['hour_category'] = bikes_df['hour'].apply(categorize_hour)\n",
        "print(bikes_df['hour_category'].value_counts())"
      ],
      "metadata": {
        "colab": {
          "base_uri": "https://localhost:8080/"
        },
        "id": "-EPBHci-z_bK",
        "outputId": "9514c19f-dc8c-4b0b-9128-9948d84c8981"
      },
      "execution_count": 525,
      "outputs": [
        {
          "output_type": "stream",
          "name": "stdout",
          "text": [
            "hour_category\n",
            "Afternoon    4375\n",
            "Evening      4368\n",
            "Morning      4360\n",
            "Night        4276\n",
            "Name: count, dtype: int64\n"
          ]
        }
      ]
    },
    {
      "cell_type": "code",
      "source": [
        "# Menampilkan nilai-nilai unik untuk kolom kategorikal\n",
        "print(bikes_df['season'].value_counts())\n",
        "print(bikes_df['weather_condition'].value_counts())\n",
        "print(bikes_df['day_of_week'].value_counts())"
      ],
      "metadata": {
        "colab": {
          "base_uri": "https://localhost:8080/"
        },
        "id": "_q2U1OYUg0P9",
        "outputId": "6d23fba5-9ba6-4a2b-f8fd-a584ef8ad9cb"
      },
      "execution_count": 526,
      "outputs": [
        {
          "output_type": "stream",
          "name": "stdout",
          "text": [
            "season\n",
            "Autumn    4496\n",
            "Summer    4409\n",
            "Spring    4242\n",
            "Winter    4232\n",
            "Name: count, dtype: int64\n",
            "weather_condition\n",
            "Clear     11040\n",
            "Cloudy     5871\n",
            "Rainy       468\n",
            "Name: count, dtype: int64\n",
            "day_of_week\n",
            "Saturday     2512\n",
            "Sunday       2502\n",
            "Friday       2487\n",
            "Monday       2479\n",
            "Wednesday    2475\n",
            "Thursday     2471\n",
            "Tuesday      2453\n",
            "Name: count, dtype: int64\n"
          ]
        }
      ]
    },
    {
      "cell_type": "code",
      "source": [
        "# Menampilkan nilai-nilai unik kolom numerik\n",
        "print(bikes_df['temperature'].value_counts())\n",
        "print(bikes_df['humidity'].value_counts())\n",
        "print(bikes_df['wind_speed'].value_counts())"
      ],
      "metadata": {
        "colab": {
          "base_uri": "https://localhost:8080/"
        },
        "id": "lZUmKUJUg_lj",
        "outputId": "7226a8fb-e0f2-4af8-99af-6669c70b0003"
      },
      "execution_count": 527,
      "outputs": [
        {
          "output_type": "stream",
          "name": "stdout",
          "text": [
            "temperature\n",
            "0.635000    120\n",
            "0.265833    120\n",
            "0.564167     96\n",
            "0.710833     96\n",
            "0.649167     96\n",
            "           ... \n",
            "0.707059     17\n",
            "0.216667     12\n",
            "0.318182     11\n",
            "0.195000      8\n",
            "0.440000      1\n",
            "Name: count, Length: 499, dtype: int64\n",
            "humidity\n",
            "0.613333    96\n",
            "0.630833    72\n",
            "0.590417    72\n",
            "0.690000    72\n",
            "0.570000    72\n",
            "            ..\n",
            "0.561765    17\n",
            "0.861667    12\n",
            "0.825455    11\n",
            "0.687500     8\n",
            "0.880000     1\n",
            "Name: count, Length: 595, dtype: int64\n",
            "wind_speed\n",
            "0.136817    72\n",
            "0.118792    72\n",
            "0.166667    72\n",
            "0.149883    72\n",
            "0.106350    72\n",
            "            ..\n",
            "0.304659    17\n",
            "0.293850    16\n",
            "0.213009    11\n",
            "0.113837     8\n",
            "0.358200     1\n",
            "Name: count, Length: 650, dtype: int64\n"
          ]
        }
      ]
    },
    {
      "cell_type": "code",
      "source": [
        "# Frekuensi kategori untuk kolom season\n",
        "season_counts = bikes_df['season'].value_counts()\n",
        "print(\"Frekuensi Kategori untuk Kolom Season:\")\n",
        "print(season_counts)\n",
        "\n",
        "# Frekuensi kategori untuk kolom weather_condition\n",
        "weather_condition_counts = bikes_df['weather_condition'].value_counts()\n",
        "print(\"\\nFrekuensi Kategori untuk Kolom Weather Condition:\")\n",
        "print(weather_condition_counts)\n",
        "\n",
        "# Frekuensi kategori untuk kolom day_of_week\n",
        "day_of_week_counts = bikes_df['day_of_week'].value_counts()\n",
        "print(\"\\nFrekuensi Kategori untuk Kolom Day of Week:\")\n",
        "print(day_of_week_counts)"
      ],
      "metadata": {
        "colab": {
          "base_uri": "https://localhost:8080/"
        },
        "id": "5Kl-eQmthb78",
        "outputId": "3b6cd09c-3bc1-4c1a-9525-eaf6287c152a"
      },
      "execution_count": 528,
      "outputs": [
        {
          "output_type": "stream",
          "name": "stdout",
          "text": [
            "Frekuensi Kategori untuk Kolom Season:\n",
            "season\n",
            "Autumn    4496\n",
            "Summer    4409\n",
            "Spring    4242\n",
            "Winter    4232\n",
            "Name: count, dtype: int64\n",
            "\n",
            "Frekuensi Kategori untuk Kolom Weather Condition:\n",
            "weather_condition\n",
            "Clear     11040\n",
            "Cloudy     5871\n",
            "Rainy       468\n",
            "Name: count, dtype: int64\n",
            "\n",
            "Frekuensi Kategori untuk Kolom Day of Week:\n",
            "day_of_week\n",
            "Saturday     2512\n",
            "Sunday       2502\n",
            "Friday       2487\n",
            "Monday       2479\n",
            "Wednesday    2475\n",
            "Thursday     2471\n",
            "Tuesday      2453\n",
            "Name: count, dtype: int64\n"
          ]
        }
      ]
    },
    {
      "cell_type": "code",
      "source": [
        "# Statistik deskriptif untuk kolom numerik (Analisis Univariat)\n",
        "numerical_columns = ['temperature', 'feels_like_temp', 'humidity', 'wind_speed', 'total_rentals']\n",
        "print(bikes_df[numerical_columns].describe())\n"
      ],
      "metadata": {
        "colab": {
          "base_uri": "https://localhost:8080/"
        },
        "id": "c-KNQpQPjLq0",
        "outputId": "c5acace8-958f-490c-8d07-1d84c99dfa65"
      },
      "execution_count": 529,
      "outputs": [
        {
          "output_type": "stream",
          "name": "stdout",
          "text": [
            "        temperature  feels_like_temp      humidity    wind_speed  \\\n",
            "count  17379.000000     17379.000000  17379.000000  17379.000000   \n",
            "mean       0.496987         0.475775      0.627229      0.190098   \n",
            "std        0.182445         0.162426      0.141779      0.077204   \n",
            "min        0.059130         0.079070      0.000000      0.022392   \n",
            "25%        0.340000         0.338363      0.520000      0.134950   \n",
            "50%        0.502500         0.490122      0.625833      0.180967   \n",
            "75%        0.655833         0.610488      0.729583      0.233204   \n",
            "max        0.861667         0.840896      0.972500      0.507463   \n",
            "\n",
            "       total_rentals  \n",
            "count   17379.000000  \n",
            "mean     4533.692963  \n",
            "std      1917.376947  \n",
            "min        22.000000  \n",
            "25%      3214.000000  \n",
            "50%      4563.000000  \n",
            "75%      5986.000000  \n",
            "max      8714.000000  \n"
          ]
        }
      ]
    },
    {
      "cell_type": "code",
      "source": [
        "# Rata-rata total_rentals berdasarkan weather_condition (Analisis Bivariat)\n",
        "weather_avg_rentals = bikes_df.groupby('weather_condition')['total_rentals'].mean()\n",
        "print(weather_avg_rentals)\n",
        "\n",
        "# Rata-rata total_rentals berdasarkan day_of_week\n",
        "day_avg_rentals = bikes_df.groupby('day_of_week')['total_rentals'].mean()\n",
        "print(day_avg_rentals)\n"
      ],
      "metadata": {
        "colab": {
          "base_uri": "https://localhost:8080/"
        },
        "id": "p1KOqfFHh1oS",
        "outputId": "081904e2-c225-4277-ba93-b9701e00a648"
      },
      "execution_count": 530,
      "outputs": [
        {
          "output_type": "stream",
          "name": "stdout",
          "text": [
            "weather_condition\n",
            "Clear     4895.177083\n",
            "Cloudy    4062.717595\n",
            "Rainy     1914.700855\n",
            "Name: total_rentals, dtype: float64\n",
            "day_of_week\n",
            "Friday       4700.838359\n",
            "Monday       4391.920936\n",
            "Saturday     4561.544188\n",
            "Sunday       4239.505995\n",
            "Thursday     4703.503440\n",
            "Tuesday      4566.708113\n",
            "Wednesday    4574.609293\n",
            "Name: total_rentals, dtype: float64\n"
          ]
        }
      ]
    },
    {
      "cell_type": "code",
      "source": [
        "# Rata-rata total_rentals berdasarkan season\n",
        "season_avg_rentals = bikes_df.groupby('season')['total_rentals'].mean()\n",
        "print(season_avg_rentals)"
      ],
      "metadata": {
        "colab": {
          "base_uri": "https://localhost:8080/"
        },
        "id": "Jv78qpz8jqIW",
        "outputId": "52322d04-e33c-448d-8316-a60f4cb4eebb"
      },
      "execution_count": 531,
      "outputs": [
        {
          "output_type": "stream",
          "name": "stdout",
          "text": [
            "season\n",
            "Autumn    5654.093194\n",
            "Spring    2635.348185\n",
            "Summer    4995.253119\n",
            "Winter    4765.366021\n",
            "Name: total_rentals, dtype: float64\n"
          ]
        }
      ]
    },
    {
      "cell_type": "code",
      "source": [
        "# Rata-rata total_rentals berdasarkan kombinasi season, weather_condition, dan day_of_week (Analisis Multivariat)\n",
        "multivariate_avg_rentals = bikes_df.groupby(['season', 'weather_condition', 'day_of_week'])['total_rentals'].mean()\n",
        "print(multivariate_avg_rentals)\n"
      ],
      "metadata": {
        "colab": {
          "base_uri": "https://localhost:8080/"
        },
        "id": "ofq48tr0iGrK",
        "outputId": "f4b0155c-7026-46c4-cdb0-3b75536759b3"
      },
      "execution_count": 532,
      "outputs": [
        {
          "output_type": "stream",
          "name": "stdout",
          "text": [
            "season  weather_condition  day_of_week\n",
            "Autumn  Clear              Friday         5890.058824\n",
            "                           Monday         5595.654292\n",
            "                           Saturday       5931.058824\n",
            "                           Sunday         5361.890063\n",
            "                           Thursday       6318.500000\n",
            "                                             ...     \n",
            "Winter  Cloudy             Wednesday      4699.875000\n",
            "        Rainy              Monday         2655.280000\n",
            "                           Saturday        627.000000\n",
            "                           Tuesday        2946.666667\n",
            "                           Wednesday      1834.357895\n",
            "Name: total_rentals, Length: 70, dtype: float64\n"
          ]
        }
      ]
    },
    {
      "cell_type": "code",
      "source": [
        "# Tren total_rentals berdasarkan tahun\n",
        "yearly_trend = bikes_df.groupby('year')['total_rentals'].sum()\n",
        "print(yearly_trend)\n"
      ],
      "metadata": {
        "colab": {
          "base_uri": "https://localhost:8080/"
        },
        "id": "foNbu2mFkRHG",
        "outputId": "a8237c38-9be4-4619-e9c8-43c9f9ab5b78"
      },
      "execution_count": 533,
      "outputs": [
        {
          "output_type": "stream",
          "name": "stdout",
          "text": [
            "year\n",
            "2011    29665268\n",
            "2012    49125782\n",
            "Name: total_rentals, dtype: int64\n"
          ]
        }
      ]
    },
    {
      "cell_type": "code",
      "source": [
        "# Tren total_rentals berdasarkan bulan\n",
        "monthly_trend = bikes_df.groupby('month')['total_rentals'].sum()\n",
        "print(monthly_trend)\n"
      ],
      "metadata": {
        "colab": {
          "base_uri": "https://localhost:8080/"
        },
        "id": "ziBvrLzBkVnd",
        "outputId": "db7855eb-928c-4eed-db12-f3156ade1c66"
      },
      "execution_count": 534,
      "outputs": [
        {
          "output_type": "stream",
          "name": "stdout",
          "text": [
            "month\n",
            "April        6444110\n",
            "August       8391628\n",
            "December     5058558\n",
            "February     3582161\n",
            "January      3184341\n",
            "July         8278752\n",
            "June         8312208\n",
            "March        5463600\n",
            "May          7960464\n",
            "November     6101439\n",
            "October      7719270\n",
            "September    8294519\n",
            "Name: total_rentals, dtype: int64\n"
          ]
        }
      ]
    },
    {
      "cell_type": "code",
      "source": [
        "# Tren total_rentals berdasarkan hari dalam seminggu\n",
        "daily_trend = bikes_df.groupby('day_of_week')['total_rentals'].sum()\n",
        "print(daily_trend)\n"
      ],
      "metadata": {
        "colab": {
          "base_uri": "https://localhost:8080/"
        },
        "id": "ziYPfh9Hkctf",
        "outputId": "e977b690-0c16-475f-ecd0-0febefc3c96b"
      },
      "execution_count": 535,
      "outputs": [
        {
          "output_type": "stream",
          "name": "stdout",
          "text": [
            "day_of_week\n",
            "Friday       11690985\n",
            "Monday       10887572\n",
            "Saturday     11458599\n",
            "Sunday       10607244\n",
            "Thursday     11622357\n",
            "Tuesday      11202135\n",
            "Wednesday    11322158\n",
            "Name: total_rentals, dtype: int64\n"
          ]
        }
      ]
    },
    {
      "cell_type": "code",
      "source": [
        "# Tren total_rentals berdasarkan jam\n",
        "hourly_trend = bikes_df.groupby('hour')['total_rentals'].sum()\n",
        "print(hourly_trend)\n"
      ],
      "metadata": {
        "colab": {
          "base_uri": "https://localhost:8080/"
        },
        "id": "8-vQtbmjkjK9",
        "outputId": "6e7096cf-e065-4118-b645-3d178e703a59"
      },
      "execution_count": 536,
      "outputs": [
        {
          "output_type": "stream",
          "name": "stdout",
          "text": [
            "hour\n",
            "0     3284685\n",
            "1     3281953\n",
            "2     3261236\n",
            "3     3217258\n",
            "4     3235646\n",
            "5     3273682\n",
            "6     3285017\n",
            "7     3290447\n",
            "8     3290447\n",
            "9     3290447\n",
            "10    3290447\n",
            "11    3290447\n",
            "12    3291130\n",
            "13    3292226\n",
            "14    3292226\n",
            "15    3292226\n",
            "16    3292657\n",
            "17    3292657\n",
            "18    3291036\n",
            "19    3291036\n",
            "20    3291036\n",
            "21    3291036\n",
            "22    3291036\n",
            "23    3291036\n",
            "Name: total_rentals, dtype: int64\n"
          ]
        }
      ]
    },
    {
      "cell_type": "code",
      "source": [
        "# Tren total_rentals berdasarkan musim\n",
        "seasonal_trend = bikes_df.groupby('season')['total_rentals'].sum()\n",
        "print(seasonal_trend)\n"
      ],
      "metadata": {
        "colab": {
          "base_uri": "https://localhost:8080/"
        },
        "id": "PL9XGVi-kpdP",
        "outputId": "49dc8623-9cb4-4fdd-d223-64c6abac086d"
      },
      "execution_count": 537,
      "outputs": [
        {
          "output_type": "stream",
          "name": "stdout",
          "text": [
            "season\n",
            "Autumn    25420803\n",
            "Spring    11179147\n",
            "Summer    22024071\n",
            "Winter    20167029\n",
            "Name: total_rentals, dtype: int64\n"
          ]
        }
      ]
    },
    {
      "cell_type": "code",
      "source": [
        "# Tren total_rentals berdasarkan kondisi cuaca\n",
        "weather_trend = bikes_df.groupby('weather_condition')['total_rentals'].sum()\n",
        "print(weather_trend)"
      ],
      "metadata": {
        "colab": {
          "base_uri": "https://localhost:8080/"
        },
        "id": "lX0gVEKRkxBg",
        "outputId": "0bac6f49-6455-414c-ea37-d74713d005d7"
      },
      "execution_count": 538,
      "outputs": [
        {
          "output_type": "stream",
          "name": "stdout",
          "text": [
            "weather_condition\n",
            "Clear     54042755\n",
            "Cloudy    23852215\n",
            "Rainy       896080\n",
            "Name: total_rentals, dtype: int64\n"
          ]
        }
      ]
    },
    {
      "cell_type": "code",
      "source": [
        "# Tren total_rentals berdasarkan hari libur vs hari kerja\n",
        "holiday_workingday_trend = bikes_df.groupby(['is_holiday', 'is_working_day'])['total_rentals'].sum()\n",
        "print(holiday_workingday_trend)\n"
      ],
      "metadata": {
        "colab": {
          "base_uri": "https://localhost:8080/"
        },
        "id": "8LrWDCY3k143",
        "outputId": "1582ada1-a4cf-4e5f-b7ba-8de54a69712d"
      },
      "execution_count": 539,
      "outputs": [
        {
          "output_type": "stream",
          "name": "stdout",
          "text": [
            "is_holiday   is_working_day \n",
            "Holiday      Non-Working Day     1875030\n",
            "Non-Holiday  Non-Working Day    22065843\n",
            "             Working Day        54850177\n",
            "Name: total_rentals, dtype: int64\n"
          ]
        }
      ]
    },
    {
      "cell_type": "code",
      "source": [
        "# Menghitung korelasi antar kolom numerik\n",
        "numerical_columns = ['temperature', 'feels_like_temp', 'humidity', 'wind_speed', 'total_rentals']\n",
        "correlation_matrix = bikes_df[numerical_columns].corr()\n",
        "\n",
        "# Menampilkan matriks korelasi\n",
        "print(correlation_matrix)\n"
      ],
      "metadata": {
        "colab": {
          "base_uri": "https://localhost:8080/"
        },
        "id": "-gujsk3UlFbj",
        "outputId": "4505bc83-dead-4f83-9e87-0aba9edc2261"
      },
      "execution_count": 540,
      "outputs": [
        {
          "output_type": "stream",
          "name": "stdout",
          "text": [
            "                 temperature  feels_like_temp  humidity  wind_speed  \\\n",
            "temperature         1.000000         0.991608  0.131257   -0.161577   \n",
            "feels_like_temp     0.991608         1.000000  0.144272   -0.187460   \n",
            "humidity            0.131257         0.144272  1.000000   -0.258150   \n",
            "wind_speed         -0.161577        -0.187460 -0.258150    1.000000   \n",
            "total_rentals       0.625232         0.629054 -0.091657   -0.231340   \n",
            "\n",
            "                 total_rentals  \n",
            "temperature           0.625232  \n",
            "feels_like_temp       0.629054  \n",
            "humidity             -0.091657  \n",
            "wind_speed           -0.231340  \n",
            "total_rentals         1.000000  \n"
          ]
        }
      ]
    },
    {
      "cell_type": "code",
      "source": [
        "# Korelasi antara season dan total_rentals (rata-rata per musim)\n",
        "season_rentals_correlation = bikes_df.groupby('season')['total_rentals'].mean()\n",
        "print(season_rentals_correlation)"
      ],
      "metadata": {
        "colab": {
          "base_uri": "https://localhost:8080/"
        },
        "id": "lbQXmV-8ld7J",
        "outputId": "37bbdcb2-7f8a-430c-a3c6-dacf3002c2e3"
      },
      "execution_count": 541,
      "outputs": [
        {
          "output_type": "stream",
          "name": "stdout",
          "text": [
            "season\n",
            "Autumn    5654.093194\n",
            "Spring    2635.348185\n",
            "Summer    4995.253119\n",
            "Winter    4765.366021\n",
            "Name: total_rentals, dtype: float64\n"
          ]
        }
      ]
    },
    {
      "cell_type": "code",
      "source": [
        "# Mengelompokkan data berdasarkan jumlah peminjaman dan waktu\n",
        "grouped_data = bikes_df.groupby(['hour', 'weather_condition'])['total_rentals'].sum().reset_index()\n",
        "\n",
        "# Misalkan kita ingin mengelompokkan berdasarkan jumlah peminjaman sepeda\n",
        "high_demand = grouped_data[grouped_data['total_rentals'] > grouped_data['total_rentals'].quantile(0.75)]\n",
        "low_demand = grouped_data[grouped_data['total_rentals'] < grouped_data['total_rentals'].quantile(0.25)]\n",
        "\n",
        "# Menampilkan hasil\n",
        "print(\"High Demand Clusters:\")\n",
        "print(high_demand)\n",
        "print(\"\\nLow Demand Clusters:\")\n",
        "print(low_demand)\n"
      ],
      "metadata": {
        "colab": {
          "base_uri": "https://localhost:8080/"
        },
        "id": "HKlhAre5meDB",
        "outputId": "65f82eba-8bf4-46ec-88d9-5dbf0345ec71"
      },
      "execution_count": 542,
      "outputs": [
        {
          "output_type": "stream",
          "name": "stdout",
          "text": [
            "High Demand Clusters:\n",
            "    hour weather_condition  total_rentals\n",
            "18     6             Clear        2252091\n",
            "21     7             Clear        2257521\n",
            "24     8             Clear        2257521\n",
            "27     9             Clear        2257521\n",
            "30    10             Clear        2257521\n",
            "33    11             Clear        2257521\n",
            "36    12             Clear        2257521\n",
            "39    13             Clear        2257521\n",
            "42    14             Clear        2257521\n",
            "45    15             Clear        2257521\n",
            "48    16             Clear        2257952\n",
            "51    17             Clear        2257952\n",
            "54    18             Clear        2257952\n",
            "57    19             Clear        2257952\n",
            "60    20             Clear        2257952\n",
            "63    21             Clear        2257952\n",
            "66    22             Clear        2257952\n",
            "69    23             Clear        2257952\n",
            "\n",
            "Low Demand Clusters:\n",
            "    hour weather_condition  total_rentals\n",
            "5      1             Rainy          35137\n",
            "8      2             Rainy          36005\n",
            "11     3             Rainy          34294\n",
            "14     4             Rainy          36718\n",
            "56    18             Rainy          37341\n",
            "59    19             Rainy          37341\n",
            "62    20             Rainy          37341\n",
            "65    21             Rainy          37341\n",
            "68    22             Rainy          37341\n",
            "71    23             Rainy          37341\n"
          ]
        }
      ]
    },
    {
      "cell_type": "code",
      "source": [
        "# Menghitung jumlah entri berdasarkan casual dan registered\n",
        "casual_counts = bikes_df['casual_users'].value_counts()\n",
        "registered_counts = bikes_df['registered_users'].value_counts()\n",
        "\n",
        "# Menampilkan hasil\n",
        "print(\"Jumlah Entri Berdasarkan Casual Users:\")\n",
        "print(casual_counts)\n",
        "print(\"\\nJumlah Entri Berdasarkan Registered Users:\")\n",
        "print(registered_counts)\n"
      ],
      "metadata": {
        "colab": {
          "base_uri": "https://localhost:8080/"
        },
        "id": "9HMJV-VLw4gf",
        "outputId": "fb3fbdba-bbc0-40fb-c7b6-cee9fae76237"
      },
      "execution_count": 543,
      "outputs": [
        {
          "output_type": "stream",
          "name": "stdout",
          "text": [
            "Jumlah Entri Berdasarkan Casual Users:\n",
            "casual_users\n",
            "968     96\n",
            "120     93\n",
            "653     72\n",
            "775     72\n",
            "163     71\n",
            "        ..\n",
            "1415    17\n",
            "34      16\n",
            "87      11\n",
            "15       8\n",
            "2        1\n",
            "Name: count, Length: 606, dtype: int64\n",
            "\n",
            "Jumlah Entri Berdasarkan Registered Users:\n",
            "registered_users\n",
            "4841    72\n",
            "6248    72\n",
            "1707    70\n",
            "4446    48\n",
            "2419    48\n",
            "        ..\n",
            "2919    17\n",
            "472     16\n",
            "1009    11\n",
            "416      8\n",
            "20       1\n",
            "Name: count, Length: 679, dtype: int64\n"
          ]
        }
      ]
    },
    {
      "cell_type": "markdown",
      "source": [
        "**Insight:**\n",
        "*   Hari Kerja (Working Day) dan Cuaca Cerah (Clear) mendominasi pemakaian sepeda\n",
        "*   Autumn dan May adalah waktu yang lebih sering terjadi pemakaian sepeda\n",
        "*   Frekuensi penggunaan sepeda lebih tinggi pada hari Saturday (Sabtu), yang bisa disebabkan oleh aktivitas rekreasi pada akhir pekan."
      ],
      "metadata": {
        "id": "BSTCiKSzsaB1"
      }
    },
    {
      "cell_type": "markdown",
      "source": [
        "## Visualization & Explanatory Analysis"
      ],
      "metadata": {
        "id": "QDqYz-ZXtCv7"
      }
    },
    {
      "cell_type": "markdown",
      "source": [
        "### Pertanyaan 1:Tren hari dalam Seminggu (Day of Week) dan Penyewaan Sepeda?"
      ],
      "metadata": {
        "id": "aNJArgPRvTA-"
      }
    },
    {
      "cell_type": "code",
      "source": [
        "# Agregasi jumlah penyewaan berdasarkan hari dalam seminggu\n",
        "day_of_week_summary = bikes_df.groupby('day_of_week')['total_rentals'].sum().reset_index()\n",
        "\n",
        "# Visualisasi jumlah penyewaan berdasarkan hari dalam seminggu\n",
        "plt.figure(figsize=(10, 6))\n",
        "sns.barplot(x='day_of_week', y='total_rentals', data=day_of_week_summary, palette='Set2')\n",
        "plt.title('Jumlah Penyewaan Sepeda Berdasarkan Hari dalam Seminggu')\n",
        "plt.xlabel('Hari dalam Seminggu')\n",
        "plt.ylabel('Jumlah Penyewaan Sepeda')\n",
        "plt.xticks(rotation=45)\n",
        "plt.show()\n"
      ],
      "metadata": {
        "colab": {
          "base_uri": "https://localhost:8080/",
          "height": 708
        },
        "id": "rLgD8J43vig-",
        "outputId": "c7b5f3dc-2dd5-4784-f964-3c549101c0ff"
      },
      "execution_count": 544,
      "outputs": [
        {
          "output_type": "stream",
          "name": "stderr",
          "text": [
            "<ipython-input-544-64cb73ebaab1>:6: FutureWarning: \n",
            "\n",
            "Passing `palette` without assigning `hue` is deprecated and will be removed in v0.14.0. Assign the `x` variable to `hue` and set `legend=False` for the same effect.\n",
            "\n",
            "  sns.barplot(x='day_of_week', y='total_rentals', data=day_of_week_summary, palette='Set2')\n"
          ]
        },
        {
          "output_type": "display_data",
          "data": {
            "text/plain": [
              "<Figure size 1000x600 with 1 Axes>"
            ],
            "image/png": "[encoded data removed]"
          },
          "metadata": {}
        }
      ]
    },
    {
      "cell_type": "markdown",
      "source": [
        "### Pertanyaan 2:Apakah Liburan (Holiday) mempengaruhi Penyewaan Sepeda?"
      ],
      "metadata": {
        "id": "0gEWiAW4vpA_"
      }
    },
    {
      "cell_type": "code",
      "source": [
        "# Agregasi jumlah penyewaan berdasarkan status liburan\n",
        "holiday_summary = bikes_df.groupby('is_holiday')['total_rentals'].sum().reset_index()\n",
        "\n",
        "# Visualisasi jumlah penyewaan berdasarkan status liburan\n",
        "plt.figure(figsize=(8, 6))\n",
        "sns.barplot(x='is_holiday', y='total_rentals', data=holiday_summary, palette='RdBu')\n",
        "plt.title('Jumlah Penyewaan Sepeda Berdasarkan Status Liburan')\n",
        "plt.xlabel('Liburan (0 = Non-Holiday, 1 = Holiday)')\n",
        "plt.ylabel('Jumlah Penyewaan Sepeda')\n",
        "plt.xticks([0, 1], ['Non-Holiday', 'Holiday'])\n",
        "plt.show()\n"
      ],
      "metadata": {
        "colab": {
          "base_uri": "https://localhost:8080/",
          "height": 655
        },
        "id": "TiZvQ2tJv8hF",
        "outputId": "191ccb9f-cd84-424f-c6d1-60a01a898dd3"
      },
      "execution_count": 545,
      "outputs": [
        {
          "output_type": "stream",
          "name": "stderr",
          "text": [
            "<ipython-input-545-ee2032675878>:6: FutureWarning: \n",
            "\n",
            "Passing `palette` without assigning `hue` is deprecated and will be removed in v0.14.0. Assign the `x` variable to `hue` and set `legend=False` for the same effect.\n",
            "\n",
            "  sns.barplot(x='is_holiday', y='total_rentals', data=holiday_summary, palette='RdBu')\n"
          ]
        },
        {
          "output_type": "display_data",
          "data": {
            "text/plain": [
              "<Figure size 800x600 with 1 Axes>"
            ],
            "image/png": "[encoded data removed]"
          },
          "metadata": {}
        }
      ]
    },
    {
      "cell_type": "markdown",
      "source": [
        "### Pertanyaan 3:Perbedaan penyewaan sepeda Hari Kerja vs. Non-Hari Kerja?"
      ],
      "metadata": {
        "id": "G2-ox0YjwCHx"
      }
    },
    {
      "cell_type": "code",
      "source": [
        "# Agregasi jumlah penyewaan berdasarkan hari kerja\n",
        "working_day_summary = bikes_df.groupby('is_working_day')['total_rentals'].sum().reset_index()\n",
        "\n",
        "# Visualisasi jumlah penyewaan berdasarkan hari kerja\n",
        "plt.figure(figsize=(8, 6))\n",
        "sns.barplot(x='is_working_day', y='total_rentals', data=working_day_summary, palette='Pastel1')\n",
        "plt.title('Jumlah Penyewaan Sepeda Berdasarkan Hari Kerja')\n",
        "plt.xlabel('Hari Kerja (0 = Non-Working, 1 = Working)')\n",
        "plt.ylabel('Jumlah Penyewaan Sepeda')\n",
        "plt.xticks([0, 1], ['Non-Working Day', 'Working Day'])\n",
        "plt.show()"
      ],
      "metadata": {
        "colab": {
          "base_uri": "https://localhost:8080/",
          "height": 655
        },
        "id": "xyuzNCt9wO1-",
        "outputId": "4c90f8aa-e6b4-47a2-ab03-91d3a1ad5c50"
      },
      "execution_count": 546,
      "outputs": [
        {
          "output_type": "stream",
          "name": "stderr",
          "text": [
            "<ipython-input-546-ada58b39b6cf>:6: FutureWarning: \n",
            "\n",
            "Passing `palette` without assigning `hue` is deprecated and will be removed in v0.14.0. Assign the `x` variable to `hue` and set `legend=False` for the same effect.\n",
            "\n",
            "  sns.barplot(x='is_working_day', y='total_rentals', data=working_day_summary, palette='Pastel1')\n"
          ]
        },
        {
          "output_type": "display_data",
          "data": {
            "text/plain": [
              "<Figure size 800x600 with 1 Axes>"
            ],
            "image/png": "[encoded data removed]"
          },
          "metadata": {}
        }
      ]
    },
    {
      "cell_type": "markdown",
      "source": [
        "### Pertanyaan 4:bagaimana tren dalam satuan Tahun (Year) Penyewaan Sepeda?"
      ],
      "metadata": {
        "id": "fwicvFmewW94"
      }
    },
    {
      "cell_type": "code",
      "source": [
        "# Agregasi jumlah penyewaan berdasarkan tahun\n",
        "year_summary = bikes_df.groupby('year')['total_rentals'].sum().reset_index()\n",
        "\n",
        "# Visualisasi jumlah penyewaan berdasarkan tahun\n",
        "plt.figure(figsize=(8, 6))\n",
        "sns.lineplot(x='year', y='total_rentals', data=year_summary, marker='o', color='green')\n",
        "plt.title('Jumlah Penyewaan Sepeda Berdasarkan Tahun')\n",
        "plt.xlabel('Tahun')\n",
        "plt.ylabel('Jumlah Penyewaan Sepeda')\n",
        "plt.show()\n"
      ],
      "metadata": {
        "colab": {
          "base_uri": "https://localhost:8080/",
          "height": 564
        },
        "id": "a6V3cM19wqR8",
        "outputId": "fa5970d0-c14a-4600-c293-0ded915c625d"
      },
      "execution_count": 547,
      "outputs": [
        {
          "output_type": "display_data",
          "data": {
            "text/plain": [
              "<Figure size 800x600 with 1 Axes>"
            ],
            "image/png": "[encoded data removed]"
          },
          "metadata": {}
        }
      ]
    },
    {
      "cell_type": "code",
      "source": [
        "#Distribusi Penyewaan Sepeda (Total Rentals)\n",
        "plt.figure(figsize=(8, 6))\n",
        "sns.histplot(bikes_df['total_rentals'], bins=30, kde=True, color='blue')\n",
        "plt.title('Distribusi Total Penyewaan Sepeda')\n",
        "plt.xlabel('Total Rentals')\n",
        "plt.ylabel('Frequency')\n",
        "plt.show()"
      ],
      "metadata": {
        "colab": {
          "base_uri": "https://localhost:8080/",
          "height": 564
        },
        "id": "70ygmU2bs3CU",
        "outputId": "0ad61996-5c8f-4253-d4a8-52ee50f205b9"
      },
      "execution_count": 548,
      "outputs": [
        {
          "output_type": "display_data",
          "data": {
            "text/plain": [
              "<Figure size 800x600 with 1 Axes>"
            ],
            "image/png": "[encoded data removed]"
          },
          "metadata": {}
        }
      ]
    },
    {
      "cell_type": "code",
      "source": [
        "#Pola Penyewaan Sepeda Berdasarkan Jam\n",
        "plt.figure(figsize=(12, 6))\n",
        "sns.barplot(x='hour', y='total_rentals', hue='is_working_day', data=bikes_df)\n",
        "plt.title('Pola Penyewaan Sepeda Berdasarkan Jam')\n",
        "plt.xlabel('Jam')"
      ],
      "metadata": {
        "colab": {
          "base_uri": "https://localhost:8080/",
          "height": 582
        },
        "id": "7hhASBUzlVUc",
        "outputId": "ff8fbe58-40f1-483b-dacf-bc61c14d6305"
      },
      "execution_count": 549,
      "outputs": [
        {
          "output_type": "execute_result",
          "data": {
            "text/plain": [
              "Text(0.5, 0, 'Jam')"
            ]
          },
          "metadata": {},
          "execution_count": 549
        },
        {
          "output_type": "display_data",
          "data": {
            "text/plain": [
              "<Figure size 1200x600 with 1 Axes>"
            ],
            "image/png": "[encoded data removed]"
          },
          "metadata": {}
        }
      ]
    },
    {
      "cell_type": "markdown",
      "source": [
        "### Pertanyaan 5:Bagaimana perbandingan Casual dan Registered Users Berdasarkan Jumlah Penyewaan Sepeda?"
      ],
      "metadata": {
        "id": "FZYqjYOSxVqI"
      }
    },
    {
      "cell_type": "code",
      "source": [
        "# Menambahkan kolom jumlah penyewaan berdasarkan casual dan registered\n",
        "bikes_df['total_users'] = bikes_df['casual_users'] + bikes_df['registered_users']\n",
        "\n",
        "# Visualisasi perbandingan penyewaan per kategori pengguna per bulan\n",
        "monthly_rentals = bikes_df.groupby('month')[['casual_users', 'registered_users']].sum()\n",
        "\n",
        "# Plot Stacked Bar Chart\n",
        "monthly_rentals.plot(kind='bar', stacked=True, figsize=(12, 8), color=['lightblue', 'salmon'])\n",
        "\n",
        "# Menambahkan informasi ke plot\n",
        "plt.title('Perbandingan Penyewaan Sepeda Berdasarkan Casual dan Registered Users per Bulan')\n",
        "plt.xlabel('Bulan')\n",
        "plt.ylabel('Jumlah Penyewaan Sepeda')\n",
        "plt.xticks(rotation=0)\n",
        "plt.legend(title='Jenis Pengguna', labels=['Casual Users', 'Registered Users'])\n",
        "plt.tight_layout()\n",
        "plt.show()\n"
      ],
      "metadata": {
        "colab": {
          "base_uri": "https://localhost:8080/",
          "height": 807
        },
        "id": "NjCDaUN8xapz",
        "outputId": "43f53052-e149-4358-def4-8a37789b9ffe"
      },
      "execution_count": 550,
      "outputs": [
        {
          "output_type": "display_data",
          "data": {
            "text/plain": [
              "<Figure size 1200x800 with 1 Axes>"
            ],
            "image/png": "[encoded data removed]"
          },
          "metadata": {}
        }
      ]
    },
    {
      "cell_type": "markdown",
      "source": [
        "**Insight:**\n",
        "*   Penyewaan sepeda dapat bervariasi signifikan berdasarkan hari dalam seminggu.Pada hari Kamis dan Jum'at,penyewaan sepeda cenderung lebih tinggi karena banyak orang yang menghabiskan waktu di luar untuk beraktivitas.\n",
        "*   Liburan (holiday) cenderung sangat berpengaruh pada jumlah penyewaan sepeda, dengan kemungkinan lebih banyak orang yang menyewa sepeda karena memiliki waktu luang. Ini bisa menunjukkan adanya fluktuasi yang lebih tinggi pada hari-hari libur dibandingkan dengan hari biasa, ketika orang lebih cenderung menggunakan sepeda untuk rekreasi\n",
        "*   Perbedaan antara penyewaan sepeda di hari kerja (weekday) dan non-hari kerja (weekend) sangat jelas. Hari kerja biasanya memiliki penyewaan yang lebih teratur karena orang lebih banyak menggunakan sepeda untuk transportasi, sementara pada hari libur atau akhir pekan, penyewaan lebih didorong oleh aktivitas rekreasi.\n",
        "*   Penyewaan sepeda akan mengalami perubahan yang signifikan dari tahun 2011 ke 2012,ada kemungkinan peningkatan jumlah penyewaan sepeda di tahun-tahun tertentu, yang bisa dipengaruhi oleh faktor eksternal\n",
        "*   Casual users (pengguna yang tidak terdaftar) dan registered users (pengguna yang terdaftar) memiliki pola penyewaan yang berbeda. Casual users cenderung menggunakan sepeda lebih sedikit pada akhir pekan atau selama liburan, sedangkan registered users cenderung menyewa sepeda secara lebih konsisten di hari kerja."
      ],
      "metadata": {
        "id": "VIZ9zftc0b-1"
      }
    },
    {
      "cell_type": "markdown",
      "source": [
        "## Analisis Lanjutan (Clusterung):Bagaimana kita dapat mengidentifikasi periode waktu dengan permintaan tinggi dan rendah untuk optimasi operasional?"
      ],
      "metadata": {
        "id": "V7A1XbtHx6FU"
      }
    },
    {
      "cell_type": "code",
      "source": [
        "# Visualisasi high demand dan low demand clusters\n",
        "plt.figure(figsize=(10, 6))\n",
        "\n",
        "# Plot untuk High Demand Clusters\n",
        "sns.scatterplot(data=high_demand, x='hour', y='total_rentals', hue='weather_condition', palette='coolwarm', s=100)\n",
        "plt.title('High Demand Clusters: Hourly Rentals by Weather Condition')\n",
        "plt.xlabel('Hour of the Day')\n",
        "plt.ylabel('Total Rentals')\n",
        "plt.legend(title='Weather Condition')\n",
        "plt.show()\n",
        "\n",
        "# Plot untuk Low Demand Clusters\n",
        "plt.figure(figsize=(10, 6))\n",
        "sns.scatterplot(data=low_demand, x='hour', y='total_rentals', hue='weather_condition', palette='coolwarm', s=100, marker='X')\n",
        "plt.title('Low Demand Clusters: Hourly Rentals by Weather Condition')\n",
        "plt.xlabel('Hour of the Day')\n",
        "plt.ylabel('Total Rentals')\n",
        "plt.legend(title='Weather Condition')\n",
        "plt.show()\n"
      ],
      "metadata": {
        "colab": {
          "base_uri": "https://localhost:8080/",
          "height": 1000
        },
        "id": "n9sdhwqgx-ZI",
        "outputId": "9174b447-a978-44cd-f194-e9efe18e40f3"
      },
      "execution_count": 551,
      "outputs": [
        {
          "output_type": "display_data",
          "data": {
            "text/plain": [
              "<Figure size 1000x600 with 1 Axes>"
            ],
            "image/png": "[encoded data removed]"
          },
          "metadata": {}
        },
        {
          "output_type": "display_data",
          "data": {
            "text/plain": [
              "<Figure size 1000x600 with 1 Axes>"
            ],
            "image/png": "[encoded data removed]"
          },
          "metadata": {}
        }
      ]
    },
    {
      "cell_type": "markdown",
      "source": [
        "## Conclusion\n",
        "\n",
        "\n",
        "\n",
        "\n",
        "*   Liburan (holiday) memang memengaruhi peningkatan penyewaan sepeda, yang menunjukkan permintaan lebih tinggi di hari libur.Pengelolaan armada sepeda dan promosi untuk meningkatkan jumlah penyewaan pada hari libur harus dilakukan. Penyesuaian pada ketersediaan sepeda dan layanan sebaiknya dilakukan lebih awal.\n",
        "---\n",
        "*   Di hari kerja, lebih banyak sepeda yang digunakan untuk keperluan transportasi, sehingga perlu dipastikan ketersediaan sepeda di pagi dan sore hari. Untuk hari libur, bisa difokuskan pada peningkatan promosi atau event yang menarik lebih banyak pengguna casual.\n",
        "\n",
        "---\n",
        "*   Penyewaan sepeda cenderung meningkat dari tahun ke tahun, menunjukkan peningkatan kesadaran masyarakat untuk menggunakan sepeda.ini diperlukan perencanaan jangka panjang, termasuk penambahan jumlah sepeda dan penyempurnaan sistem operasional untuk mengikuti tren yang meningkat\n",
        "\n",
        "---\n",
        "*   Memahami pola penyewaan sepeda berdasarkan waktu (jam, hari, bulan, tahun) dan kondisi cuaca dapat membantu dalam pengelolaan armada sepeda. Optimalkan ketersediaan sepeda pada jam-jam sibuk, hari libur, dan periode dengan cuaca cerah.\n"
      ],
      "metadata": {
        "id": "PEl0YNQUY-eO"
      }
    },
    {
      "cell_type": "code",
      "source": [
        "from google.colab import drive\n",
        "drive.mount('/content/drive')\n"
      ],
      "metadata": {
        "colab": {
          "base_uri": "https://localhost:8080/"
        },
        "id": "OjMjX6PBq2aS",
        "outputId": "fa603a5a-f67c-41e7-cec8-8a4d68de3052"
      },
      "execution_count": 503,
      "outputs": [
        {
          "output_type": "stream",
          "name": "stdout",
          "text": [
            "Drive already mounted at /content/drive; to attempt to forcibly remount, call drive.mount(\"/content/drive\", force_remount=True).\n"
          ]
        }
      ]
    },
    {
      "cell_type": "code",
      "source": [
        "# Menyimpan dataframe ke CSV di Google Drive\n",
        "bikes_df.to_csv('/content/drive/MyDrive/bike_sharing_dataset.csv', index=False)\n",
        "print(\"Dataframe berhasil disimpan ke Google Drive.\")"
      ],
      "metadata": {
        "colab": {
          "base_uri": "https://localhost:8080/"
        },
        "id": "28P51FHsr3VB",
        "outputId": "292987c6-c7f9-4f12-c3e3-817854ee0919"
      },
      "execution_count": 504,
      "outputs": [
        {
          "output_type": "stream",
          "name": "stdout",
          "text": [
            "Dataframe berhasil disimpan ke Google Drive.\n"
          ]
        }
      ]
    },
    {
      "cell_type": "code",
      "source": [
        "from google.colab import files\n",
        "files.download('/content/drive/MyDrive/bike_sharing_dataset.csv')\n"
      ],
      "metadata": {
        "colab": {
          "base_uri": "https://localhost:8080/",
          "height": 17
        },
        "id": "MZY17-eEu-dM",
        "outputId": "6c8bce3d-5d9e-4304-fbe4-94dfc65f128b"
      },
      "execution_count": 505,
      "outputs": [
        {
          "output_type": "display_data",
          "data": {
            "text/plain": [
              "<IPython.core.display.Javascript object>"
            ],
            "application/javascript": [
              "\n",
              "    async function download(id, filename, size) {\n",
              "      if (!google.colab.kernel.accessAllowed) {\n",
              "        return;\n",
              "      }\n",
              "      const div = document.createElement('div');\n",
              "      const label = document.createElement('label');\n",
              "      label.textContent = `Downloading \"${filename}\": `;\n",
              "      div.appendChild(label);\n",
              "      const progress = document.createElement('progress');\n",
              "      progress.max = size;\n",
              "      div.appendChild(progress);\n",
              "      document.body.appendChild(div);\n",
              "\n",
              "      const buffers = [];\n",
              "      let downloaded = 0;\n",
              "\n",
              "      const channel = await google.colab.kernel.comms.open(id);\n",
              "      // Send a message to notify the kernel that we're ready.\n",
              "      channel.send({})\n",
              "\n",
              "      for await (const message of channel.messages) {\n",
              "        // Send a message to notify the kernel that we're ready.\n",
              "        channel.send({})\n",
              "        if (message.buffers) {\n",
              "          for (const buffer of message.buffers) {\n",
              "            buffers.push(buffer);\n",
              "            downloaded += buffer.byteLength;\n",
              "            progress.value = downloaded;\n",
              "          }\n",
              "        }\n",
              "      }\n",
              "      const blob = new Blob(buffers, {type: 'application/binary'});\n",
              "      const a = document.createElement('a');\n",
              "      a.href = window.URL.createObjectURL(blob);\n",
              "      a.download = filename;\n",
              "      div.appendChild(a);\n",
              "      a.click();\n",
              "      div.remove();\n",
              "    }\n",
              "  "
            ]
          },
          "metadata": {}
        },
        {
          "output_type": "display_data",
          "data": {
            "text/plain": [
              "<IPython.core.display.Javascript object>"
            ],
            "application/javascript": [
              "download(\"download_38ea2fe0-40c7-4935-9d97-a8de4ea51e4d\", \"bike_sharing_dataset.csv\", 2393997)"
            ]
          },
          "metadata": {}
        }
      ]
    }
  ]
}